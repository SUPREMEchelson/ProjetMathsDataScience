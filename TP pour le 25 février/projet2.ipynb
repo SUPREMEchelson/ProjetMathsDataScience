{
 "cells": [
  {
   "cell_type": "markdown",
   "id": "2346832a",
   "metadata": {
    "papermill": {
     "duration": 0.049717,
     "end_time": "2024-02-15T10:58:28.679943",
     "exception": false,
     "start_time": "2024-02-15T10:58:28.630226",
     "status": "completed"
    },
    "tags": []
   },
   "source": [
    "#### YNOV - Master 2 DATAEN\n",
    "\n",
    "# Maths DataScience\n",
    "### Probabilités et statistiques, Algèbre linéaire avec Python\n",
    "\n",
    "## Simulation d'échantillons statistiques et applications.\n"
   ]
  },
  {
   "cell_type": "markdown",
   "id": "210a8b0f",
   "metadata": {
    "papermill": {
     "duration": 0.045689,
     "end_time": "2024-02-15T10:58:28.771199",
     "exception": false,
     "start_time": "2024-02-15T10:58:28.725510",
     "status": "completed"
    },
    "tags": []
   },
   "source": [
    "Ce premier atelier porte sur les échantillons statistiques. Un échantillon statistique est un ensemble $X_1, \\cdots, X_n$ de variables aléatoires indépendantes et identiquement distribuées (i.i.d.) selon une même loi de distribution $P$. L'objectif est d'apprendre à simuler un échantillon, c'est à dire à faire un tirage aléatoire de la réalisation $x_1, \\cdots, x_n$ d'un échantillon. Nous étudierons quelques méthodes de simulations pour des lois discrètes et continues. Nous verrons par ailleurs quelques applications de la simulation.  "
   ]
  },
  {
   "cell_type": "markdown",
   "id": "e13c4178",
   "metadata": {
    "papermill": {
     "duration": 0.046838,
     "end_time": "2024-02-15T10:58:28.864210",
     "exception": false,
     "start_time": "2024-02-15T10:58:28.817372",
     "status": "completed"
    },
    "tags": []
   },
   "source": [
    "## 1. Loi uniforme."
   ]
  },
  {
   "cell_type": "markdown",
   "id": "83265093",
   "metadata": {
    "papermill": {
     "duration": 0.048823,
     "end_time": "2024-02-15T10:58:28.961404",
     "exception": false,
     "start_time": "2024-02-15T10:58:28.912581",
     "status": "completed"
    },
    "tags": []
   },
   "source": [
    "### 1.1. Simulation."
   ]
  },
  {
   "cell_type": "markdown",
   "id": "19e85d9b",
   "metadata": {
    "papermill": {
     "duration": 0.045099,
     "end_time": "2024-02-15T10:58:29.051747",
     "exception": false,
     "start_time": "2024-02-15T10:58:29.006648",
     "status": "completed"
    },
    "tags": []
   },
   "source": [
    "Les langages de programmation proposent généralement des fonctions pour générer \n",
    "des suites pseudo-aléatoires de réalisations de variables aléatoires indépendantes de loi uniforme sur $[0,1]$. \n",
    "Python dispose notamment de la méthode **rand** du module **numpy.random**. Cette méthode peut s'importer dans un script sous le nom Uniforme avec l'instruction:"
   ]
  },
  {
   "cell_type": "code",
   "execution_count": 1,
   "id": "79b18eeb",
   "metadata": {
    "execution": {
     "iopub.execute_input": "2024-02-15T10:58:29.158179Z",
     "iopub.status.busy": "2024-02-15T10:58:29.157066Z",
     "iopub.status.idle": "2024-02-15T10:58:29.160782Z",
     "shell.execute_reply": "2024-02-15T10:58:29.161360Z",
     "shell.execute_reply.started": "2021-12-03T15:51:44.718412Z"
    },
    "papermill": {
     "duration": 0.064987,
     "end_time": "2024-02-15T10:58:29.161722",
     "exception": false,
     "start_time": "2024-02-15T10:58:29.096735",
     "status": "completed"
    },
    "tags": []
   },
   "outputs": [],
   "source": [
    "from numpy.random import rand as Uniforme\n",
    "# Pour savoir comment utiliser cette méthode, décommenter la ligne suivante:\n",
    "# help(Uniforme)"
   ]
  },
  {
   "cell_type": "markdown",
   "id": "e865d380",
   "metadata": {
    "papermill": {
     "duration": 0.044059,
     "end_time": "2024-02-15T10:58:29.250470",
     "exception": false,
     "start_time": "2024-02-15T10:58:29.206411",
     "status": "completed"
    },
    "tags": []
   },
   "source": [
    "***Exercice 1***. \n",
    "\n",
    "Ecrire un programme qui simule un échantillon de taille $N$ fixée de loi uniforme sur $[0,1]$ et \n",
    "le stocke dans un vecteur $y$."
   ]
  },
  {
   "cell_type": "code",
   "execution_count": 2,
   "id": "7c67c2d1",
   "metadata": {
    "execution": {
     "iopub.execute_input": "2024-02-15T10:58:29.345312Z",
     "iopub.status.busy": "2024-02-15T10:58:29.344376Z",
     "iopub.status.idle": "2024-02-15T10:58:29.347131Z",
     "shell.execute_reply": "2024-02-15T10:58:29.347752Z",
     "shell.execute_reply.started": "2021-12-03T15:51:44.725106Z"
    },
    "papermill": {
     "duration": 0.05316,
     "end_time": "2024-02-15T10:58:29.347939",
     "exception": false,
     "start_time": "2024-02-15T10:58:29.294779",
     "status": "completed"
    },
    "tags": []
   },
   "outputs": [],
   "source": [
    "N = 1000\n",
    "y = Uniforme(N)"
   ]
  },
  {
   "cell_type": "markdown",
   "id": "6df848be",
   "metadata": {
    "papermill": {
     "duration": 0.045463,
     "end_time": "2024-02-15T10:58:29.439689",
     "exception": false,
     "start_time": "2024-02-15T10:58:29.394226",
     "status": "completed"
    },
    "tags": []
   },
   "source": [
    "### 1.2. Histogramme."
   ]
  },
  {
   "cell_type": "markdown",
   "id": "d8565889",
   "metadata": {
    "papermill": {
     "duration": 0.045578,
     "end_time": "2024-02-15T10:58:29.533053",
     "exception": false,
     "start_time": "2024-02-15T10:58:29.487475",
     "status": "completed"
    },
    "tags": []
   },
   "source": [
    "On peut analyser la distribution empirique d'un échantillon $y$ à l'aide d'un histogramme. Un histogramme est une fonction qui à un intervalle associe le nombre (ou le pourcentage) d'éléments de l'échantillon dont la valeur est dans l'intervalle. En Python, un histogramme peut être calculé et visualisé au moyen de la méthode **hist** du module **pyplot** de **matplotlib**. On peut importer ce module avec l'instruction suivante."
   ]
  },
  {
   "cell_type": "code",
   "execution_count": 3,
   "id": "8ec188d8",
   "metadata": {
    "execution": {
     "iopub.execute_input": "2024-02-15T10:58:29.627259Z",
     "iopub.status.busy": "2024-02-15T10:58:29.626163Z",
     "iopub.status.idle": "2024-02-15T10:58:29.631773Z",
     "shell.execute_reply": "2024-02-15T10:58:29.631152Z",
     "shell.execute_reply.started": "2021-12-03T15:51:44.737218Z"
    },
    "papermill": {
     "duration": 0.054,
     "end_time": "2024-02-15T10:58:29.631958",
     "exception": false,
     "start_time": "2024-02-15T10:58:29.577958",
     "status": "completed"
    },
    "tags": []
   },
   "outputs": [],
   "source": [
    "import matplotlib.pyplot as plt\n",
    "# help(plt.hist)"
   ]
  },
  {
   "cell_type": "markdown",
   "id": "297a7c15",
   "metadata": {
    "papermill": {
     "duration": 0.044533,
     "end_time": "2024-02-15T10:58:29.722680",
     "exception": false,
     "start_time": "2024-02-15T10:58:29.678147",
     "status": "completed"
    },
    "tags": []
   },
   "source": [
    "L'option **bins** de la fonction **hist** permet de prédéfinir les intervalles où l'histogramme est calculé. En mettant *bins=k*, on subdivise l'étendu des valeurs de $y$ en $k$ intervalles de même taille. En mettant *bins=Ik* où *Ik* est un vecteur de valeurs ordonnées, on précise les bornes des intervalles successifs. On peut en outre utiliser l'option  *normed=True* pour préciser que l'on souhaite les pourcentages de valeurs dans chaque intervalle. "
   ]
  },
  {
   "cell_type": "markdown",
   "id": "bd2cdcb9",
   "metadata": {
    "papermill": {
     "duration": 0.044686,
     "end_time": "2024-02-15T10:58:29.813325",
     "exception": false,
     "start_time": "2024-02-15T10:58:29.768639",
     "status": "completed"
    },
    "tags": []
   },
   "source": [
    "***Exercice 2***. \n",
    "\n",
    "1. Afficher l'histogramme de l'échantillon simulé.\n",
    "2. La distribution correspond-elle à celle d'une loi uniforme ?\n",
    "3. Que se passe-t-il lorsque l'on augmente la taille $N$ de l'échantillon ?\n",
    "4. Que se passe-t-il lorsque l'on augmente la nombre $K$ d'intervalles ?\n",
    "5. En appliquant la loi des grands nombres, justifier mathématiquement que, sur chaque intervalle $I$, l'histogramme approche la probabilité $P(I)$ de la loi de l'échantillon.\n",
    "\n",
    "Rappel de la ***loi des grands nombres***:\n",
    "\n",
    "Soient $(X_n)_n$ une suite de variables aléatoires i.i.d. ayant la même loi qu'une variable aléatoire $X$. Si $X$ est d'espérance et de variance finies, alors la moyenne empirique de l'échantillon,\n",
    "\n",
    "$$ \\overline{X}_n = \\frac{1}{n} \\sum_{i=1}^n X_i, $$\n",
    "\n",
    "converge presque sûrement vers l'espérance $\\mathbb{E}(X)$ de $X$.\n",
    "\n"
   ]
  },
  {
   "cell_type": "code",
   "execution_count": 4,
   "id": "d329f44e",
   "metadata": {
    "execution": {
     "iopub.execute_input": "2024-02-15T10:58:29.909459Z",
     "iopub.status.busy": "2024-02-15T10:58:29.908254Z",
     "iopub.status.idle": "2024-02-15T10:58:29.913147Z",
     "shell.execute_reply": "2024-02-15T10:58:29.913854Z",
     "shell.execute_reply.started": "2021-12-03T15:51:44.748259Z"
    },
    "papermill": {
     "duration": 0.055067,
     "end_time": "2024-02-15T10:58:29.914114",
     "exception": false,
     "start_time": "2024-02-15T10:58:29.859047",
     "status": "completed"
    },
    "tags": []
   },
   "outputs": [],
   "source": [
    "# Vos réponses."
   ]
  },
  {
   "cell_type": "markdown",
   "id": "459b3cb1",
   "metadata": {
    "papermill": {
     "duration": 0.045118,
     "end_time": "2024-02-15T10:58:30.007555",
     "exception": false,
     "start_time": "2024-02-15T10:58:29.962437",
     "status": "completed"
    },
    "tags": []
   },
   "source": [
    "## 2. Loi de Bernoulli."
   ]
  },
  {
   "cell_type": "markdown",
   "id": "673c80fc",
   "metadata": {
    "papermill": {
     "duration": 0.044693,
     "end_time": "2024-02-15T10:58:30.099512",
     "exception": false,
     "start_time": "2024-02-15T10:58:30.054819",
     "status": "completed"
    },
    "tags": []
   },
   "source": [
    "### 2.1. Simulation."
   ]
  },
  {
   "cell_type": "markdown",
   "id": "77f6f2b3",
   "metadata": {
    "papermill": {
     "duration": 0.04551,
     "end_time": "2024-02-15T10:58:30.189665",
     "exception": false,
     "start_time": "2024-02-15T10:58:30.144155",
     "status": "completed"
    },
    "tags": []
   },
   "source": [
    "Une variable aléatoire suit une loi de Bernoulli de paramètre $p$ dans $[0, 1]$\n",
    "si elle prend la valeur $1$ avec probabilité $p$ et 0 avec la probabilité $1-p$.\n",
    "\n",
    "Soit $U$ une variable uniforme sur $[0, 1]$. On définit la variable aléatoire\n",
    "$$ X = \\left\\{ \\begin{array}{lll} 1 & & \\mathrm{si} \\:\\:  U<p, \\\\\n",
    "  0 & & \\mathrm{sinon}. \\end{array} \\right. $$\n",
    "\n",
    "***Exercice 3***.\n",
    "1. Vérifier que $X$ suit une loi de Bernoulli de paramètre $p$.\n",
    "2. Ecrire une fonction nommée *Bernoulli* qui simule la réalisation d'un échantillon de loi de Bernoulli en suivant le modèle ci-dessous.\n",
    "3. Simuler un échantillon de loi de Bernoulli de paramètre $p=0.2$ et de taille $N=1000$."
   ]
  },
  {
   "cell_type": "code",
   "execution_count": 5,
   "id": "d63342a1",
   "metadata": {
    "execution": {
     "iopub.execute_input": "2024-02-15T10:58:30.283534Z",
     "iopub.status.busy": "2024-02-15T10:58:30.282397Z",
     "iopub.status.idle": "2024-02-15T10:58:30.288960Z",
     "shell.execute_reply": "2024-02-15T10:58:30.289574Z",
     "shell.execute_reply.started": "2021-12-03T15:51:44.761809Z"
    },
    "papermill": {
     "duration": 0.055436,
     "end_time": "2024-02-15T10:58:30.289791",
     "exception": false,
     "start_time": "2024-02-15T10:58:30.234355",
     "status": "completed"
    },
    "tags": []
   },
   "outputs": [],
   "source": [
    "import numpy as np\n",
    "\n",
    "def Bernoulli(p, n=1):\n",
    "    \"\"\"Crée un échantillon de taille n de la loi de Bernoulli de paramètre p.\n",
    "    \n",
    "    Remarque: On utilise le fait que lorsque U est une loi uniforme sur (0, 1), \n",
    "    la variable aléatoire qui vaut 1 si U<p et 0 sinon est de loi de Bernoulli \n",
    "    de paramètre p. En effet, P(B=1) = P(U<p) = p, P(B=0) = P(U>p) = 1-p.\n",
    "\n",
    "    Parameters\n",
    "    ----------\n",
    "    p : scalar (in (0, 1))\n",
    "        Paramètre de la loi de Bernoulli.\n",
    "    n : int, optional\n",
    "        Taille de l'échantillon (Valeur par défaut = 1).\n",
    "\n",
    "    Returns\n",
    "    -------\n",
    "    y : ndarray\n",
    "        Echantillon.\n",
    "\n",
    "    \"\"\"\n",
    "    y = np.zeros(n)\n",
    "    \n",
    "    # A compléter.\n",
    "    # y[i] contient la réalisation de la ième variable de l'échantillon.\n",
    "\n",
    "    return(y)"
   ]
  },
  {
   "cell_type": "markdown",
   "id": "b7720932",
   "metadata": {
    "papermill": {
     "duration": 0.044253,
     "end_time": "2024-02-15T10:58:30.378751",
     "exception": false,
     "start_time": "2024-02-15T10:58:30.334498",
     "status": "completed"
    },
    "tags": []
   },
   "source": [
    "Pour analyser la distribution empirique d'un échantillon de loi discrète, on peut utiliser un diagramme en bâton. \n",
    "Ce diagramme donne, pour chaque valeur possible $a$, le nombre (ou le pourcentage) d'éléments de l'échantillon dont la valeur est $a$. Ce diagramme peut se calculer en Python au moyen de la méthode **bar** du module **plt**.\n",
    "\n",
    "***Exercice 4***. \n",
    "\n",
    "A l'aide d'un diagramme en bâton, vérifier que l'échantillon de Bernoulli est correctement simulé. \n",
    "\n",
    "Pour appliquer **bar**, il faut calculer au préalable le nombre d'occurrences de chaque valeur dans l'échantillon. Pour cela, on peut utiliser la fonction suivante."
   ]
  },
  {
   "cell_type": "code",
   "execution_count": 6,
   "id": "722bb279",
   "metadata": {
    "execution": {
     "iopub.execute_input": "2024-02-15T10:58:30.473507Z",
     "iopub.status.busy": "2024-02-15T10:58:30.472318Z",
     "iopub.status.idle": "2024-02-15T10:58:30.479621Z",
     "shell.execute_reply": "2024-02-15T10:58:30.480205Z",
     "shell.execute_reply.started": "2021-12-03T15:51:44.773572Z"
    },
    "papermill": {
     "duration": 0.057038,
     "end_time": "2024-02-15T10:58:30.480447",
     "exception": false,
     "start_time": "2024-02-15T10:58:30.423409",
     "status": "completed"
    },
    "tags": []
   },
   "outputs": [],
   "source": [
    "import numpy as np\n",
    "\n",
    "def occurrences(val, y):\n",
    "    \"\"\"Compte le nombre d'occurrences de chaque valeur de val dans l'échantillon y.\n",
    "\n",
    "    Parameters\n",
    "    ----------\n",
    "    val : ndarray\n",
    "        Valeurs.\n",
    "    y : ndarray\n",
    "        Echantillon.\n",
    "\n",
    "    Returns\n",
    "    -------\n",
    "    occ : ndarray\n",
    "        Nombre d'occurrences de chaque valeur dans l'échantillon.\n",
    "        occ[k] : nombre d'occurences de la valeur val[k] dans l'échantillon y.\n",
    "    \"\"\"\n",
    "    occ = np.zeros(val.size)\n",
    "    for j in range(y.size):\n",
    "        for k in range(val.size):\n",
    "            if y[j] == val[k]:\n",
    "                occ[k] += 1\n",
    "                break\n",
    "    return(occ)    "
   ]
  },
  {
   "cell_type": "code",
   "execution_count": 7,
   "id": "7b7a4fd1",
   "metadata": {
    "execution": {
     "iopub.execute_input": "2024-02-15T10:58:30.575039Z",
     "iopub.status.busy": "2024-02-15T10:58:30.573971Z",
     "iopub.status.idle": "2024-02-15T10:58:30.577300Z",
     "shell.execute_reply": "2024-02-15T10:58:30.577834Z",
     "shell.execute_reply.started": "2021-12-03T15:51:44.784739Z"
    },
    "papermill": {
     "duration": 0.052832,
     "end_time": "2024-02-15T10:58:30.578080",
     "exception": false,
     "start_time": "2024-02-15T10:58:30.525248",
     "status": "completed"
    },
    "tags": []
   },
   "outputs": [],
   "source": [
    "# Votre réponse."
   ]
  },
  {
   "cell_type": "markdown",
   "id": "8a8ab384",
   "metadata": {
    "papermill": {
     "duration": 0.047926,
     "end_time": "2024-02-15T10:58:31.594852",
     "exception": false,
     "start_time": "2024-02-15T10:58:31.546926",
     "status": "completed"
    },
    "tags": []
   },
   "source": [
    "### 2.3. Quelques lois discrètes associées à la loi de Bernoulli."
   ]
  },
  {
   "cell_type": "markdown",
   "id": "a146965a",
   "metadata": {
    "papermill": {
     "duration": 0.049089,
     "end_time": "2024-02-15T10:58:31.692925",
     "exception": false,
     "start_time": "2024-02-15T10:58:31.643836",
     "status": "completed"
    },
    "tags": []
   },
   "source": [
    "### Loi binomiale."
   ]
  },
  {
   "cell_type": "markdown",
   "id": "12cf3c6f",
   "metadata": {
    "papermill": {
     "duration": 0.048624,
     "end_time": "2024-02-15T10:58:31.791476",
     "exception": false,
     "start_time": "2024-02-15T10:58:31.742852",
     "status": "completed"
    },
    "tags": []
   },
   "source": [
    "Une variable aléatoire $X$ suit une loi binomiale $\\mathcal{B}(K, p)$ de paramètres $(K,p)$ si, pour tout $k$ entier compris entre $0$ et $K$,\n",
    "$$ \\mathbb{P}(X=k) =  \\left(\\begin{array}{c} K \\\\ k \\end{array}\\right) p^k (1-p)^{K-k}. $$\n",
    "\n",
    "\n",
    "***Exercice 6.***\n",
    "\n",
    "1. Montrer que la somme de $K$ variables aléatoires indépendantes de loi de Bernoulli $\\mathcal{B}(p)$ suit une loi binomiale $\\mathcal{B}(K, p)$.\n",
    "2. En vous aidant de cette propriété, écrire une fonction *Binomiale* qui simule la réalisation d'un échantillon de loi binomiale $\\mathcal{B}(K, p)$.\n",
    "3. Simuler un $N$-échantillon de loi de Binomiale $\\mathcal{B}(K, p)$ et apprécier la qualité de la simulation à l'aide d'un diagramme en bâton.\n",
    "4. Faire varier les valeurs de $p$ et observer les changements d'allure de la distribution empirique."
   ]
  },
  {
   "cell_type": "code",
   "execution_count": 10,
   "id": "9701fd17",
   "metadata": {
    "execution": {
     "iopub.execute_input": "2024-02-15T10:58:31.892987Z",
     "iopub.status.busy": "2024-02-15T10:58:31.892184Z",
     "iopub.status.idle": "2024-02-15T10:58:31.898055Z",
     "shell.execute_reply": "2024-02-15T10:58:31.898651Z",
     "shell.execute_reply.started": "2021-12-03T15:51:45.221652Z"
    },
    "papermill": {
     "duration": 0.058994,
     "end_time": "2024-02-15T10:58:31.898868",
     "exception": false,
     "start_time": "2024-02-15T10:58:31.839874",
     "status": "completed"
    },
    "tags": []
   },
   "outputs": [],
   "source": [
    "def Binomiale(p, k=1, n=1):\n",
    "    \"\"\"\n",
    "    Crée un échantillon de taille n de la loi de Bernoulli de paramètre (k, p).\n",
    "    \n",
    "    Remarque: On s'appuie sur le fait que la somme de k variables aléatoires \n",
    "    indépendantes de loi de Bernoulli de paramètre p forme une variable \n",
    "    aléatoire de loi Binomiale de paramètres p et k.\n",
    "\n",
    "    Parameters\n",
    "    ----------\n",
    "    p, k : \n",
    "        Paramètres de la loi binomiale.\n",
    "        Par défaut k=1, ce qui correspond à une loi de Bernoulli.\n",
    "    n : int, optional\n",
    "        Taille de l'échantillon (valeur par défaut=1).\n",
    "    Returns\n",
    "    -------\n",
    "    y : ndarray\n",
    "        Echantillon.\n",
    "\n",
    "    \"\"\"\n",
    "    y = np.zeros(n)\n",
    "    \n",
    "    # A compléter.\n",
    "    # y[i] contient la réalisation de la ième variable de l'échantillon.\n",
    "    \n",
    "    return(y)"
   ]
  },
  {
   "cell_type": "markdown",
   "id": "8907d02f",
   "metadata": {
    "papermill": {
     "duration": 0.050791,
     "end_time": "2024-02-15T10:58:31.998343",
     "exception": false,
     "start_time": "2024-02-15T10:58:31.947552",
     "status": "completed"
    },
    "tags": []
   },
   "source": [
    "### Loi géométrique."
   ]
  },
  {
   "cell_type": "markdown",
   "id": "bc10c060",
   "metadata": {
    "papermill": {
     "duration": 0.049953,
     "end_time": "2024-02-15T10:58:32.100269",
     "exception": false,
     "start_time": "2024-02-15T10:58:32.050316",
     "status": "completed"
    },
    "tags": []
   },
   "source": [
    "Une variable aléatoire $X$ à valeurs enti\\`eres suit une loi géométrique $\\mathcal{G}(p)$ de paramètre $p$ dans $]0,1[$ si, pour tout entier $k>0$,\n",
    "  $$ \\mathbb{P}(X=k) =  p \\:\\: (1-p)^{k-1}. $$\n",
    "\n",
    "***Exercice 7.***\n",
    "\n",
    "1. Vérifier que le rang de la première variable valant $1$ dans une suite de variables aléeatoires indépendantes de loi de Bernoulli $\\mathcal{B}(p)$ suit une loi géométrique $\\mathcal{G}(p)$. \n",
    "2. En vous aidant de cette propriété, écrire une fonction *Geometrique* qui permet de simuler un échantillon de loi géométrique  $\\mathcal{G}(p)$.\n",
    "3. Simuler des $N$-échantillons de loi géométrique pour différentes valeurs de $p$.\n",
    "4. Comparer les diagrammes en bâton des échantillons obtenus et discuter de leur forme selon les valeurs du paramètre $p$.\n"
   ]
  },
  {
   "cell_type": "code",
   "execution_count": 11,
   "id": "1b5f5ee6",
   "metadata": {
    "execution": {
     "iopub.execute_input": "2024-02-15T10:58:32.200502Z",
     "iopub.status.busy": "2024-02-15T10:58:32.199722Z",
     "iopub.status.idle": "2024-02-15T10:58:32.205293Z",
     "shell.execute_reply": "2024-02-15T10:58:32.205902Z",
     "shell.execute_reply.started": "2021-12-03T15:51:45.233956Z"
    },
    "papermill": {
     "duration": 0.057387,
     "end_time": "2024-02-15T10:58:32.206131",
     "exception": false,
     "start_time": "2024-02-15T10:58:32.148744",
     "status": "completed"
    },
    "tags": []
   },
   "outputs": [],
   "source": [
    "def Geometrique(p, n=1):\n",
    "    \"\"\"\n",
    "    Crée un échantillon de taille n de la loi géométrique de paramètre p.\n",
    "\n",
    "    Parameters\n",
    "    ----------\n",
    "    p : \n",
    "        Paramètre de la loi géométrique.\n",
    "    n : int, optional\n",
    "        Taille de l'échantillon. La valeur par défaut est 1.\n",
    "    Returns\n",
    "    -------\n",
    "    y : ndarray\n",
    "        Echantillon.\n",
    "\n",
    "    \"\"\"\n",
    "    y = np.zeros(n)\n",
    "\n",
    "    # A compléter.\n",
    "    # y[i] contient la réalisation de la ième variable de l'échantillon.\n",
    "\n",
    "    return(y)"
   ]
  },
  {
   "cell_type": "markdown",
   "id": "cf25f337",
   "metadata": {
    "papermill": {
     "duration": 0.049979,
     "end_time": "2024-02-15T10:58:32.305172",
     "exception": false,
     "start_time": "2024-02-15T10:58:32.255193",
     "status": "completed"
    },
    "tags": []
   },
   "source": [
    "## 3. Loi exponentielle."
   ]
  },
  {
   "cell_type": "markdown",
   "id": "72c1c0dd",
   "metadata": {
    "papermill": {
     "duration": 0.047765,
     "end_time": "2024-02-15T10:58:32.401663",
     "exception": false,
     "start_time": "2024-02-15T10:58:32.353898",
     "status": "completed"
    },
    "tags": []
   },
   "source": [
    "La loi exponentielle $\\mathcal{E}(\\lambda)$ de paramètre $\\lambda > 0$ est de densité \n",
    "    $$ f(t) = \\left\\{ \\begin{array}{lll} \\lambda e^{-\\lambda t} & & \\mathrm{si}\\:\\: t>0, \\\\ 0 & & \\mathrm{sinon}. \\end{array} \\right. $$"
   ]
  },
  {
   "cell_type": "markdown",
   "id": "129ac5d3",
   "metadata": {
    "papermill": {
     "duration": 0.050019,
     "end_time": "2024-02-15T10:58:32.502380",
     "exception": false,
     "start_time": "2024-02-15T10:58:32.452361",
     "status": "completed"
    },
    "tags": []
   },
   "source": [
    "### 3.1. Méthode d'inversion de la fonction de répartition."
   ]
  },
  {
   "cell_type": "markdown",
   "id": "dd31f7d6",
   "metadata": {
    "papermill": {
     "duration": 0.04847,
     "end_time": "2024-02-15T10:58:32.599743",
     "exception": false,
     "start_time": "2024-02-15T10:58:32.551273",
     "status": "completed"
    },
    "tags": []
   },
   "source": [
    "***Exercice 8***.\n",
    "1. Soient $F$ une fonction de répartition $F$ strictement croissante et $U$ une variable aléatoire \n",
    "de loi uniforme sur $[0,1]$. Vérifier que la variable aléatoire $X=F^{-1}(U)$ admet $F$ comme fonction de répartition.\n",
    "2. En déduire que, lorsque $U \\sim \\mathcal{U}([0,1])$, $Y=-\\frac{1}{\\lambda} \\log(U) \\sim \\mathcal{E}(\\lambda)$.\n",
    "3. Construire une méthode pour simuler une variable de loi $\\mathcal{E}(\\lambda)$ et la mettre en oeuvre dans une fonction *Exponentielle*."
   ]
  },
  {
   "cell_type": "code",
   "execution_count": 12,
   "id": "de60d881",
   "metadata": {
    "execution": {
     "iopub.execute_input": "2024-02-15T10:58:32.704315Z",
     "iopub.status.busy": "2024-02-15T10:58:32.703440Z",
     "iopub.status.idle": "2024-02-15T10:58:32.705553Z",
     "shell.execute_reply": "2024-02-15T10:58:32.706182Z",
     "shell.execute_reply.started": "2021-12-03T15:51:45.247028Z"
    },
    "papermill": {
     "duration": 0.058214,
     "end_time": "2024-02-15T10:58:32.706406",
     "exception": false,
     "start_time": "2024-02-15T10:58:32.648192",
     "status": "completed"
    },
    "tags": []
   },
   "outputs": [],
   "source": [
    "def Exponentielle(lam, n=1):\n",
    "    \"\"\"\n",
    "    Crée un échantillon de taille n de la loi exponentielle de paramètre lambda.\n",
    "\n",
    "    Parameters\n",
    "    ----------\n",
    "    lam : \n",
    "        Paramètre de la loi exponentielle.\n",
    "    n : int\n",
    "        Taille de l'échantillon.\n",
    "    Returns\n",
    "    -------\n",
    "    expo : ndarray\n",
    "        Echantillon.\n",
    "\n",
    "    \"\"\"\n",
    "    y = np.zeros(n)\n",
    "    \n",
    "    # A compléter.\n",
    "    # y[i] contient la réalisation de la ième variable de l'échantillon.\n",
    "    \n",
    "    return(y)"
   ]
  },
  {
   "cell_type": "markdown",
   "id": "40d99aba",
   "metadata": {
    "papermill": {
     "duration": 0.048007,
     "end_time": "2024-02-15T10:58:32.802917",
     "exception": false,
     "start_time": "2024-02-15T10:58:32.754910",
     "status": "completed"
    },
    "tags": []
   },
   "source": [
    "### 3.2. Approximation de la fonction Gamma par une méthode de Monte Carlo."
   ]
  },
  {
   "cell_type": "markdown",
   "id": "f7967438",
   "metadata": {
    "papermill": {
     "duration": 0.051904,
     "end_time": "2024-02-15T10:58:32.903970",
     "exception": false,
     "start_time": "2024-02-15T10:58:32.852066",
     "status": "completed"
    },
    "tags": []
   },
   "source": [
    "La fonction $\\Gamma$ est définie pour tout $a>0$ par l'intégrale \n",
    "$$ \\Gamma(a)  = \\int_{0}^{+\\infty} x^{a-1} e^{-x} dx. $$\n",
    "Pour $n \\in \\mathbb{N}^\\ast$, cette fonction vaut $\\Gamma(n) = (n-1)!$. Toutefois, les valeurs de $\\Gamma$ ne sont pas connues en général. On se propose de les approcher par simulation. \n",
    "\n",
    "***Exercice 9.***\n",
    "1. Soit $X_1, \\cdots, X_n$ un échantillon de loi exponentielle $\\mathcal{E}(1)$. Pour $a>0$, on définit la variable aléatoire \n",
    "$$ G_n = \\frac{1}{n} \\sum_{i=1}^n X_i^{a-1}. $$\n",
    "Justifier la convergence de $G_n$ vers $\\Gamma(a)$ en précisant le sens de cette convergence.\n",
    "2. En déduire une méthode d'approximation de $\\Gamma(a)$.\n",
    "3. Ecrire un programme qui permet d'approcher $\\Gamma(a)$ et évaluer sa précision pour $a\\in \\mathbb{N}^\\ast$. "
   ]
  },
  {
   "cell_type": "code",
   "execution_count": 13,
   "id": "d26dc6bb",
   "metadata": {
    "execution": {
     "iopub.execute_input": "2024-02-15T10:58:33.022887Z",
     "iopub.status.busy": "2024-02-15T10:58:33.021328Z",
     "iopub.status.idle": "2024-02-15T10:58:33.029730Z",
     "shell.execute_reply": "2024-02-15T10:58:33.028216Z",
     "shell.execute_reply.started": "2021-12-03T15:51:45.265312Z"
    },
    "papermill": {
     "duration": 0.074503,
     "end_time": "2024-02-15T10:58:33.029977",
     "exception": false,
     "start_time": "2024-02-15T10:58:32.955474",
     "status": "completed"
    },
    "tags": []
   },
   "outputs": [],
   "source": [
    "# Vos réponses."
   ]
  },
  {
   "cell_type": "markdown",
   "id": "ebd8aebf",
   "metadata": {
    "papermill": {
     "duration": 0.047908,
     "end_time": "2024-02-15T10:58:33.128266",
     "exception": false,
     "start_time": "2024-02-15T10:58:33.080358",
     "status": "completed"
    },
    "tags": []
   },
   "source": [
    "### 3.2. Approximation de la fonction Beta par une méthode de Monte Carlo."
   ]
  },
  {
   "cell_type": "markdown",
   "id": "d87239ae",
   "metadata": {
    "papermill": {
     "duration": 0.047668,
     "end_time": "2024-02-15T10:58:33.224122",
     "exception": false,
     "start_time": "2024-02-15T10:58:33.176454",
     "status": "completed"
    },
    "tags": []
   },
   "source": [
    "La fonction $\\beta$ est définie pour tous $a, b>0$ par l'intégrale \n",
    "$$ \\beta(a, b)  = \\int_{0}^{1} x^{a-1} (1-x)^{b-1} dx. $$\n",
    "Cette fonction est liée à la fonction $\\Gamma$ par la relation\n",
    "$$ \\beta(a,b) =\\frac{\\Gamma(a) \\Gamma(b)}{\\Gamma(a+b)}. $$\n",
    "\n",
    "***Exercice 10.***\n",
    "En vous inspirant de l'exercice 6, construire une méthode d'approximation de cette fonction qui s'appuie sur un échantillon de loi uniforme. "
   ]
  },
  {
   "cell_type": "code",
   "execution_count": 14,
   "id": "b001f0b2",
   "metadata": {
    "execution": {
     "iopub.execute_input": "2024-02-15T10:58:33.325758Z",
     "iopub.status.busy": "2024-02-15T10:58:33.324821Z",
     "iopub.status.idle": "2024-02-15T10:58:33.327826Z",
     "shell.execute_reply": "2024-02-15T10:58:33.327189Z",
     "shell.execute_reply.started": "2021-12-03T15:51:45.274361Z"
    },
    "papermill": {
     "duration": 0.055778,
     "end_time": "2024-02-15T10:58:33.328017",
     "exception": false,
     "start_time": "2024-02-15T10:58:33.272239",
     "status": "completed"
    },
    "tags": []
   },
   "outputs": [],
   "source": [
    "# Vos réponses."
   ]
  },
  {
   "cell_type": "markdown",
   "id": "a07c208d",
   "metadata": {
    "papermill": {
     "duration": 0.048123,
     "end_time": "2024-02-15T10:58:34.324771",
     "exception": false,
     "start_time": "2024-02-15T10:58:34.276648",
     "status": "completed"
    },
    "tags": []
   },
   "source": [
    "## 4. Loi normale."
   ]
  },
  {
   "cell_type": "markdown",
   "id": "a4d4f6af",
   "metadata": {
    "papermill": {
     "duration": 0.048287,
     "end_time": "2024-02-15T10:58:34.421610",
     "exception": false,
     "start_time": "2024-02-15T10:58:34.373323",
     "status": "completed"
    },
    "tags": []
   },
   "source": [
    "### 4.1. Simulation approchée."
   ]
  },
  {
   "cell_type": "markdown",
   "id": "9598b0bd",
   "metadata": {
    "papermill": {
     "duration": 0.047979,
     "end_time": "2024-02-15T10:58:34.517903",
     "exception": false,
     "start_time": "2024-02-15T10:58:34.469924",
     "status": "completed"
    },
    "tags": []
   },
   "source": [
    "Soit une suite de variables aléatoires $$(X_1,\\cdots,X_M,\\cdots) $$ \n",
    "indépendantes et identiquement distribuées selon une même loi d'espérance $m$ et de variance $v$ finies. D'après le théorème centrale limite, la loi de la variable\n",
    "$$ T_M = \\sqrt{M} \\frac{\\frac{1}{M} \\sum_{k=1}^M X_M - m}{\\sqrt{v}} $$\n",
    "tend vers une loi normale centrée réduite.  \n",
    "\n",
    "***Exercice 13.***\n",
    "\n",
    "1. En vous appuyant sur ce théorème, construire une méthode pour simuler de manière approchée une variable gaussienne centrée réduite à partir d'un $M$-échantillon de loi uniforme sur $[0,1]$. \n",
    "2. Mettre en oeuvre cette méthode dans une fonction *Normale*.\n",
    "3. Générer des échantillons de loi normale centrée réduite avec différentes valeurs de $M$ et comparer leurs distributions empiriques au moyen de l'histogramme. "
   ]
  },
  {
   "cell_type": "code",
   "execution_count": 17,
   "id": "73bba31e",
   "metadata": {
    "execution": {
     "iopub.execute_input": "2024-02-15T10:58:34.624058Z",
     "iopub.status.busy": "2024-02-15T10:58:34.623206Z",
     "iopub.status.idle": "2024-02-15T10:58:34.626252Z",
     "shell.execute_reply": "2024-02-15T10:58:34.625586Z",
     "shell.execute_reply.started": "2021-12-03T15:51:45.308439Z"
    },
    "papermill": {
     "duration": 0.05925,
     "end_time": "2024-02-15T10:58:34.626463",
     "exception": false,
     "start_time": "2024-02-15T10:58:34.567213",
     "status": "completed"
    },
    "tags": []
   },
   "outputs": [],
   "source": [
    "def Normale(n , m=100000):\n",
    "    \"\"\"\n",
    "    Crée un échantillon de taille n de la loi normale centrée réduite.\n",
    "    Méthode approchée qui se base sur le TCL.\n",
    "\n",
    "    Parameters\n",
    "    ----------\n",
    "    n : int\n",
    "        Taille de l'échantillon.\n",
    "    m : int, optionnel.\n",
    "        Taille de l'échantillon utilisé pour approcher la loi normale. \n",
    "        La valeur par défaut est 10000.\n",
    "    Returns\n",
    "    -------\n",
    "    y: ndarray\n",
    "        Echantillon.\n",
    "    \"\"\"\n",
    "    y = np.zeros(n)\n",
    "\n",
    "    # A compléter.\n",
    "    # y[i] contient la réalisation de la ième variable de l'échantillon.\n",
    "    \n",
    "    return(y)\n"
   ]
  },
  {
   "cell_type": "markdown",
   "id": "096bc445",
   "metadata": {
    "papermill": {
     "duration": 0.049039,
     "end_time": "2024-02-15T10:58:34.723954",
     "exception": false,
     "start_time": "2024-02-15T10:58:34.674915",
     "status": "completed"
    },
    "tags": []
   },
   "source": [
    "### 4.2. Approximation de l'intégrale de Gauss tronquée."
   ]
  },
  {
   "cell_type": "markdown",
   "id": "059f5f9c",
   "metadata": {
    "papermill": {
     "duration": 0.047929,
     "end_time": "2024-02-15T10:58:34.821156",
     "exception": false,
     "start_time": "2024-02-15T10:58:34.773227",
     "status": "completed"
    },
    "tags": []
   },
   "source": [
    "Soit $Z$ une loi normale centrée réduite $\\mathcal{N}(0, 1)$. Pour tout $a < b$,  \n",
    "$$ P(Z \\in [a, b]) = \\frac{1}{\\sqrt{2\\pi}} I(a, b)$$\n",
    "où \n",
    "$$ I(a,b) = \\int_a^b e^{-\\frac{x^2}{2}} dx$$\n",
    "est une intégrale de Gauss tronquée.\n",
    "\n",
    "***Exercice 14.***\n",
    "1. Construire une méthode pour approcher la valeur de cette intégrale à l'aide d'un échantillon de loi normale centrée réduite.\n",
    "2. La mettre en oeuvre et évaluer sa précision pour $b=-a=1.96$ et différentes tailles d'échantillon."
   ]
  },
  {
   "cell_type": "code",
   "execution_count": 18,
   "id": "c95cabc1",
   "metadata": {
    "execution": {
     "iopub.execute_input": "2024-02-15T10:58:34.924685Z",
     "iopub.status.busy": "2024-02-15T10:58:34.922961Z",
     "iopub.status.idle": "2024-02-15T10:58:34.927304Z",
     "shell.execute_reply": "2024-02-15T10:58:34.928062Z",
     "shell.execute_reply.started": "2021-12-03T15:51:45.322999Z"
    },
    "papermill": {
     "duration": 0.05757,
     "end_time": "2024-02-15T10:58:34.928308",
     "exception": false,
     "start_time": "2024-02-15T10:58:34.870738",
     "status": "completed"
    },
    "tags": []
   },
   "outputs": [],
   "source": [
    "# Votre réponse."
   ]
  }
 ],
 "metadata": {
  "kaggle": {
   "accelerator": "none",
   "dataSources": [
    {
     "datasetId": 1761099,
     "sourceId": 2885266,
     "sourceType": "datasetVersion"
    }
   ],
   "dockerImageVersionId": 30152,
   "isGpuEnabled": false,
   "isInternetEnabled": true,
   "language": "python",
   "sourceType": "notebook"
  },
  "kernelspec": {
   "display_name": "Python 3 (ipykernel)",
   "language": "python",
   "name": "python3"
  },
  "language_info": {
   "codemirror_mode": {
    "name": "ipython",
    "version": 3
   },
   "file_extension": ".py",
   "mimetype": "text/x-python",
   "name": "python",
   "nbconvert_exporter": "python",
   "pygments_lexer": "ipython3",
   "version": "3.11.4"
  },
  "papermill": {
   "default_parameters": {},
   "duration": 20.339395,
   "end_time": "2024-02-15T10:58:35.889764",
   "environment_variables": {},
   "exception": null,
   "input_path": "__notebook__.ipynb",
   "output_path": "__notebook__.ipynb",
   "parameters": {},
   "start_time": "2024-02-15T10:58:15.550369",
   "version": "2.3.3"
  }
 },
 "nbformat": 4,
 "nbformat_minor": 5
}
