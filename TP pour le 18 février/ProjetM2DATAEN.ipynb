{
 "cells": [
  {
   "cell_type": "markdown",
   "metadata": {},
   "source": [
    "#### YNOV - Master 2 DATAEN\n",
    "\n",
    "# Maths DataScience\n",
    "### Probabilités et statistiques, Algèbre linéaire avec Python"
   ]
  },
  {
   "cell_type": "markdown",
   "metadata": {},
   "source": [
    "# 1. Vecteurs et matrices\n",
    "\n",
    "Un élément unique, un vecteur ligne ou colonne sont des cas particuliers de matrice (tableau 2D).\n",
    "\n",
    "Une des bibliothèques de <code>Python</code> les plus utilisées en algèbre linéaire est la bibliothèque <code>numpy</code>. On commence par l'importer pour pouvoir l'utiliser pour la suite."
   ]
  },
  {
   "cell_type": "code",
   "execution_count": null,
   "metadata": {},
   "outputs": [],
   "source": [
    "import numpy as np"
   ]
  },
  {
   "cell_type": "markdown",
   "metadata": {},
   "source": [
    "### Exercice 1.\n",
    "\n",
    "Création de tableaux, accès à un élément d'un tableau "
   ]
  },
  {
   "cell_type": "markdown",
   "metadata": {},
   "source": [
    "Création d'un vecteur ligne :"
   ]
  },
  {
   "cell_type": "code",
   "execution_count": null,
   "metadata": {},
   "outputs": [],
   "source": [
    "L1 = np.array([10, 20, 30, 40])\n",
    "L1"
   ]
  },
  {
   "cell_type": "markdown",
   "metadata": {},
   "source": [
    "Création d'un vecteur colonne :"
   ]
  },
  {
   "cell_type": "code",
   "execution_count": null,
   "metadata": {},
   "outputs": [],
   "source": [
    "C1 = np.array([[10], [20], [30], [40]])\n",
    "C1"
   ]
  },
  {
   "cell_type": "markdown",
   "metadata": {},
   "source": [
    "<b>Question : </b> Comment obtenir <code>C1</code> à partir de <code>L1</code> ?"
   ]
  },
  {
   "cell_type": "code",
   "execution_count": null,
   "metadata": {},
   "outputs": [],
   "source": [
    "C2 = L1.reshape((4, 1))\n",
    "C2"
   ]
  },
  {
   "cell_type": "markdown",
   "metadata": {},
   "source": [
    "Accès à un élément d'un tableau. Les indices commencent à <code>0</code>."
   ]
  },
  {
   "cell_type": "code",
   "execution_count": null,
   "metadata": {},
   "outputs": [],
   "source": [
    "L1[2]"
   ]
  },
  {
   "cell_type": "code",
   "execution_count": null,
   "metadata": {},
   "outputs": [],
   "source": [
    "C1[2]"
   ]
  },
  {
   "cell_type": "code",
   "execution_count": null,
   "metadata": {},
   "outputs": [],
   "source": [
    "C1[2][0]"
   ]
  },
  {
   "cell_type": "markdown",
   "metadata": {},
   "source": [
    "Création d'une matrice :"
   ]
  },
  {
   "cell_type": "code",
   "execution_count": null,
   "metadata": {},
   "outputs": [],
   "source": [
    "M1 = np.array([[10, 20, 30], [40, 50, 60], [70, 80, 90]])\n",
    "M1"
   ]
  },
  {
   "cell_type": "markdown",
   "metadata": {},
   "source": [
    "La matrice est <code>3 x 3</code> :"
   ]
  },
  {
   "cell_type": "code",
   "execution_count": null,
   "metadata": {},
   "outputs": [],
   "source": [
    "M1.shape"
   ]
  },
  {
   "cell_type": "markdown",
   "metadata": {},
   "source": [
    "Taille d'une matrice, d'un vecteur, d'un tableau :"
   ]
  },
  {
   "cell_type": "code",
   "execution_count": null,
   "metadata": {},
   "outputs": [],
   "source": [
    "np.size(L1)"
   ]
  },
  {
   "cell_type": "code",
   "execution_count": null,
   "metadata": {},
   "outputs": [],
   "source": [
    "np.size(C1)"
   ]
  },
  {
   "cell_type": "code",
   "execution_count": null,
   "metadata": {},
   "outputs": [],
   "source": [
    "np.size(M1)"
   ]
  },
  {
   "cell_type": "code",
   "execution_count": null,
   "metadata": {},
   "outputs": [],
   "source": [
    "np.size(M1[1])"
   ]
  },
  {
   "cell_type": "markdown",
   "metadata": {},
   "source": [
    " Accéder aux éléments d'un tableau 2D (indiceLigne, indiceColonne) :"
   ]
  },
  {
   "cell_type": "code",
   "execution_count": null,
   "metadata": {},
   "outputs": [],
   "source": [
    "iL = 1\n",
    "iC = 2\n",
    "M1[iL, iC]"
   ]
  },
  {
   "cell_type": "markdown",
   "metadata": {},
   "source": [
    "Extraire une ligne, une colonne :"
   ]
  },
  {
   "cell_type": "code",
   "execution_count": null,
   "metadata": {},
   "outputs": [],
   "source": [
    "print(M1[1, :])\n",
    "print(M1[:, 2])"
   ]
  },
  {
   "cell_type": "markdown",
   "metadata": {},
   "source": [
    "Extraire une sous-matrice :"
   ]
  },
  {
   "cell_type": "code",
   "execution_count": null,
   "metadata": {},
   "outputs": [],
   "source": [
    "M1[1:2, 0:1]"
   ]
  },
  {
   "cell_type": "markdown",
   "metadata": {},
   "source": [
    "Fonctions prédéfinies de création de tableaux :"
   ]
  },
  {
   "cell_type": "code",
   "execution_count": null,
   "metadata": {},
   "outputs": [],
   "source": [
    "M2 = np.zeros(3) \n",
    "M2"
   ]
  },
  {
   "cell_type": "code",
   "execution_count": null,
   "metadata": {},
   "outputs": [],
   "source": [
    "M3 = np.zeros((1,3))\n",
    "M3"
   ]
  },
  {
   "cell_type": "code",
   "execution_count": null,
   "metadata": {},
   "outputs": [],
   "source": [
    "M4 = np.zeros((2, 3))\n",
    "M4"
   ]
  },
  {
   "cell_type": "code",
   "execution_count": null,
   "metadata": {},
   "outputs": [],
   "source": [
    "M5 = np.ones((2,4))\n",
    "M5"
   ]
  },
  {
   "cell_type": "code",
   "execution_count": null,
   "metadata": {},
   "outputs": [],
   "source": [
    "Id = np.eye(3) \n",
    "Id"
   ]
  },
  {
   "cell_type": "markdown",
   "metadata": {},
   "source": [
    "Créer un tableau à partir de ses lignes :"
   ]
  },
  {
   "cell_type": "code",
   "execution_count": null,
   "metadata": {},
   "outputs": [],
   "source": [
    "L1 = np.array([5, 1, 3])\n",
    "L2 = np.array([10, 4, 2])\n",
    "L3 = np.array([3, 5, 0])\n",
    "M6 = np.concatenate(([L1], [L2], [L3]))\n",
    "M6"
   ]
  },
  {
   "cell_type": "markdown",
   "metadata": {},
   "source": [
    "Redimensionner une matrice :\n",
    "\n",
    "    - le nombre d'élements est le même avant et après\n",
    "    - le parcours ligne par ligne donne la même suite d'éléments"
   ]
  },
  {
   "cell_type": "code",
   "execution_count": null,
   "metadata": {},
   "outputs": [],
   "source": [
    "L1 = np.array([5, 1, 3])\n",
    "L2 = np.array([10, 4, 2])\n",
    "M7 = np.concatenate(([L1], [L2]))\n",
    "M7"
   ]
  },
  {
   "cell_type": "code",
   "execution_count": null,
   "metadata": {},
   "outputs": [],
   "source": [
    "M8 = np.reshape(M7, (3, 2))\n",
    "M8"
   ]
  },
  {
   "cell_type": "markdown",
   "metadata": {},
   "source": [
    "##### Opérations sur les matrices "
   ]
  },
  {
   "cell_type": "markdown",
   "metadata": {},
   "source": [
    "Produit scalaire de deux vecteurs :"
   ]
  },
  {
   "cell_type": "code",
   "execution_count": null,
   "metadata": {},
   "outputs": [],
   "source": [
    "L1 = np.array([1, 2, 3])\n",
    "L2 = np.array([1, 2, 3])\n",
    "prod = np.dot(L1, L2)\n",
    "prod"
   ]
  },
  {
   "cell_type": "markdown",
   "metadata": {},
   "source": [
    "Soit <code>M</code> la matrice définie comme suit :"
   ]
  },
  {
   "cell_type": "code",
   "execution_count": null,
   "metadata": {},
   "outputs": [],
   "source": [
    "L = np.linspace(0, 10, 9)\n",
    "M = np.array([L, L, L])\n",
    "M"
   ]
  },
  {
   "cell_type": "markdown",
   "metadata": {},
   "source": [
    "Somme de deux matrices :"
   ]
  },
  {
   "cell_type": "code",
   "execution_count": null,
   "metadata": {},
   "outputs": [],
   "source": [
    "M + M"
   ]
  },
  {
   "cell_type": "markdown",
   "metadata": {},
   "source": [
    "Produit élément par élément de deux matrices :"
   ]
  },
  {
   "cell_type": "code",
   "execution_count": null,
   "metadata": {},
   "outputs": [],
   "source": [
    "M * M"
   ]
  },
  {
   "cell_type": "markdown",
   "metadata": {},
   "source": [
    "Produit de deux matrices (compatibles) :"
   ]
  },
  {
   "cell_type": "code",
   "execution_count": null,
   "metadata": {},
   "outputs": [],
   "source": [
    "np.matmul(M, M) #erreur : pourquoi ?"
   ]
  },
  {
   "cell_type": "code",
   "execution_count": null,
   "metadata": {},
   "outputs": [],
   "source": [
    "np.matmul(M, M.T)"
   ]
  },
  {
   "cell_type": "markdown",
   "metadata": {},
   "source": [
    "A présent, nous allons illustrer la puissance de le bibliothèque <code>numpy</code>. Pour cela nous allons d'abord définir notre propre fonction <code>prod_matrices</code> calculant le produit en utilisant des boucles imbriquées : "
   ]
  },
  {
   "cell_type": "code",
   "execution_count": null,
   "metadata": {},
   "outputs": [],
   "source": [
    "def prod_matrices(M1, M2):\n",
    "    M = np.zeros((M1.shape[0], M2.shape[1]))\n",
    "    for i in range(M1.shape[0]):\n",
    "        for j in range(M2.shape[1]):\n",
    "            for k in range(M1.shape[1]):\n",
    "                M[i, j] += M1[i, k] * M2[k,j] \n",
    "    return M"
   ]
  },
  {
   "cell_type": "markdown",
   "metadata": {},
   "source": [
    "Test de la fonction :"
   ]
  },
  {
   "cell_type": "code",
   "execution_count": null,
   "metadata": {},
   "outputs": [],
   "source": [
    "M1 = np.array([[2, 1, 1], [4, 5, 7]])\n",
    "M2 = np.array([[3, 2], [2, 1], [5, 4]])\n",
    "prod_matrices(M1, M2)"
   ]
  },
  {
   "cell_type": "markdown",
   "metadata": {},
   "source": [
    "Avec un peu plus d'éléments :"
   ]
  },
  {
   "cell_type": "code",
   "execution_count": null,
   "metadata": {},
   "outputs": [],
   "source": [
    "L = np.linspace(0, 1000, 1000)\n",
    "M = np.array([L, L, L])"
   ]
  },
  {
   "cell_type": "code",
   "execution_count": null,
   "metadata": {},
   "outputs": [],
   "source": [
    "P = prod_matrices(M, M.T)\n",
    "P"
   ]
  },
  {
   "cell_type": "markdown",
   "metadata": {},
   "source": [
    "La fonction <code>time</code> permet d'afficher des statistiques sur le temps d'exécution d'une instruction <code>Python</code>. Exécutez les instructions suivantes et observez les résultats :"
   ]
  },
  {
   "cell_type": "code",
   "execution_count": null,
   "metadata": {},
   "outputs": [],
   "source": [
    "%time P = prod_matrices(M, M.T) "
   ]
  },
  {
   "cell_type": "code",
   "execution_count": null,
   "metadata": {},
   "outputs": [],
   "source": [
    "%time P= np.matmul(M, M.T)"
   ]
  },
  {
   "cell_type": "markdown",
   "metadata": {},
   "source": [
    "La différence est encore plus flagrante si on utilise des matrices creuses : "
   ]
  },
  {
   "cell_type": "code",
   "execution_count": null,
   "metadata": {},
   "outputs": [],
   "source": [
    "L1 = np.linspace(0, 1000, 1000)\n",
    "L2 = np.zeros(1000)\n",
    "M = np.array([L2, L2, L1])"
   ]
  },
  {
   "cell_type": "code",
   "execution_count": null,
   "metadata": {},
   "outputs": [],
   "source": [
    "%time P = prod_matrices(M, M.T) "
   ]
  },
  {
   "cell_type": "code",
   "execution_count": null,
   "metadata": {},
   "outputs": [],
   "source": [
    "%time P= np.matmul(M, M.T)"
   ]
  },
  {
   "cell_type": "markdown",
   "metadata": {},
   "source": [
    "### Exercice 2.\n",
    "\n",
    "Chercher des éléments dans un tableau"
   ]
  },
  {
   "cell_type": "markdown",
   "metadata": {},
   "source": [
    "1. A tester : "
   ]
  },
  {
   "cell_type": "code",
   "execution_count": null,
   "metadata": {},
   "outputs": [],
   "source": [
    "from random import sample, choices"
   ]
  },
  {
   "cell_type": "code",
   "execution_count": null,
   "metadata": {},
   "outputs": [],
   "source": [
    "V1 = np.reshape(choices(range(1, 25), k=200), (200, ))\n",
    "V1"
   ]
  },
  {
   "cell_type": "code",
   "execution_count": null,
   "metadata": {},
   "outputs": [],
   "source": [
    "V2 = V1[V1>20]\n",
    "V2"
   ]
  },
  {
   "cell_type": "markdown",
   "metadata": {},
   "source": [
    "2. Créer deux vecteurs ligne d’entiers <code>Va</code> et <code>Vb</code>, de même taille, contenant des valeurs entières aléatoires."
   ]
  },
  {
   "cell_type": "code",
   "execution_count": null,
   "metadata": {},
   "outputs": [],
   "source": []
  },
  {
   "cell_type": "markdown",
   "metadata": {},
   "source": [
    "3. Tester le code suivant. Que contient <code>V</code>?"
   ]
  },
  {
   "cell_type": "code",
   "execution_count": null,
   "metadata": {},
   "outputs": [],
   "source": [
    "V = np.array([Va[i] if Va[i] > Vb[i] else Vb[i] for i in range(Va.shape[0])])\n",
    "V"
   ]
  },
  {
   "cell_type": "markdown",
   "metadata": {},
   "source": [
    "4. Quelle est la fonction de <code>numpy</code> qui permet d'obtenir le même résultat? Tester."
   ]
  },
  {
   "cell_type": "code",
   "execution_count": null,
   "metadata": {},
   "outputs": [],
   "source": []
  },
  {
   "cell_type": "markdown",
   "metadata": {},
   "source": [
    "# 2. Probabilités et statistiques, lois usuelles\n",
    "\n",
    "Dans cette section, nous allons passer en revue quelques éléments de probabilités et statistiques. Nous allons essentiellement faire de l'inférence statistique et manipuler la loi normale."
   ]
  },
  {
   "cell_type": "markdown",
   "metadata": {},
   "source": [
    "#### Loi des grands nombres\n",
    "\n",
    "On lance une pièce biaiséé. On obtient pile avec probabilité $p\\in[0, 1]$ et face avec probabilité $q = 1 - p$.\n",
    "\n",
    "Ecrire une fonction <code>lancer(n, p)</code> qui simule le lancer de ce dé <code>n</code> fois avec la probabilité <code>p</code> d'obtenir pile et qui retourne le nombre de fois où pile est obtenu.\n",
    "\n",
    "<em>Indication :</em> <code>uniform(0,1)</code> de la bibliothèque <code>random</code> retourne un nombre réel aléatoire tiré uniformément dans l'intervalle $[0, 1]$. "
   ]
  },
  {
   "cell_type": "code",
   "execution_count": null,
   "metadata": {},
   "outputs": [],
   "source": []
  },
  {
   "cell_type": "markdown",
   "metadata": {},
   "source": [
    "Essayer avec différentes valeurs $p$ et des valeurs de $n$ croissantes. Qu'observez-vous ?"
   ]
  },
  {
   "cell_type": "code",
   "execution_count": null,
   "metadata": {},
   "outputs": [],
   "source": []
  },
  {
   "cell_type": "markdown",
   "metadata": {},
   "source": [
    "#### Loi normale\n",
    "\n",
    "La loi normale est très utilisée en statistiques. Elle est, entre autre, la loi limite pour d'autres lois. \n",
    "\n",
    "Commençons par générer des nombres suivant une loi normale mais avec différentes valeurs pour les paramètres $\\mu$ et $\\sigma$.\n",
    "\n",
    "Exécutez la cellule suivante et observez le résultat : "
   ]
  },
  {
   "cell_type": "code",
   "execution_count": null,
   "metadata": {},
   "outputs": [],
   "source": [
    "from scipy.stats import norm\n",
    "import matplotlib.pyplot as plt\n",
    "%matplotlib inline\n",
    "\n",
    "mu = [0, 1, 2, 3]\n",
    "sigma = [1, 2, 3, 4]\n",
    "\n",
    "x_min = -16\n",
    "x_max = 16\n",
    "x_nb = 100\n",
    "\n",
    "x = np.linspace(x_min, x_max, x_nb)\n",
    "\n",
    "for i in range(len(mu)):\n",
    "    y = norm.pdf(x, mu[i], sigma[i])\n",
    "    plt.plot(x, y, label='mu='+str(mu[i])+', sigma='+str(sigma[i]))\n",
    "plt.legend(loc='upper right')\n",
    "plt.show()"
   ]
  },
  {
   "cell_type": "markdown",
   "metadata": {},
   "source": [
    "Commentez les courbes et observez l'impact des valeurs de $\\sigma$."
   ]
  },
  {
   "cell_type": "markdown",
   "metadata": {},
   "source": [
    "## Inférence des paramètres d'une loi normale\n",
    "\n",
    "On insère une bannière publicitaire dans une page web. On trace les connexions à cette page auprès de $50$ utilisateurs et ce pendant $1000$ jours. Pour chaque visite on note si l'utilisateur a cliqué sur la bannière ou non. \n",
    "\n",
    "Les chiffres des clics (par jour) sont donnés dans le fichier <code>baniere.csv</code> disponible à l'adresse https://www.labri.fr/perso/zemmari/datasets/baniere.csv."
   ]
  },
  {
   "cell_type": "markdown",
   "metadata": {},
   "source": [
    "1. Charger les données dans une variable de nom <code>data</code> en utilisant la fonction <code>read_csv</code> de la bibliothèque <code>pandas</code> (elle accepte les urls)."
   ]
  },
  {
   "cell_type": "code",
   "execution_count": null,
   "metadata": {},
   "outputs": [],
   "source": []
  },
  {
   "cell_type": "markdown",
   "metadata": {},
   "source": [
    "2. Donner une estimation de la probabilité qu'un visiteur du site (choisi au hasard) clique sur la bannière. "
   ]
  },
  {
   "cell_type": "code",
   "execution_count": null,
   "metadata": {},
   "outputs": [],
   "source": []
  },
  {
   "cell_type": "markdown",
   "metadata": {},
   "source": [
    "3. Le code suivant permet de tracer l'histogramme des données comme une courbe. Qu'observez-vous pour la forme de la courbe ? "
   ]
  },
  {
   "cell_type": "code",
   "execution_count": null,
   "metadata": {},
   "outputs": [],
   "source": [
    "from collections import Counter\n",
    "\n",
    "compteur = Counter(list(data[0]))\n",
    "#print(compteur)\n",
    "\n",
    "x = list(compteur.keys())\n",
    "print(x)\n",
    "y = [compteur[x[i]] for i in range(len(x))  ]\n",
    "print(y)\n",
    "plt.scatter(x, y, c='red', marker='+')"
   ]
  },
  {
   "cell_type": "markdown",
   "metadata": {},
   "source": [
    "4. Calculez l'estimateur $\\hat\\mu$ de la moyenne et $\\hat\\sigma$ de la variance. \n",
    "\n",
    "<em>Indication :</em> des estimateurs non biaisés de la moyenne et de la variance d'une série $(x_i)_{1\\leq i\\leq n}$ sont donnés par :\n",
    "$$\n",
    "\\hat\\mu = \\frac 1 n \\sum_{i=1}^n x_i, \\,\\,\\,\\, \\hat\\sigma^2 = \\frac 1 {n} \\sum_{i=1}^n \\left(x_i - \\hat\\mu\\right)^2.\n",
    "$$\n",
    "On peut néanmoins utiliser directement les fonctions <code>average</code> et <code>std</code> de la bibliothèque <code>numpy</code>."
   ]
  },
  {
   "cell_type": "code",
   "execution_count": null,
   "metadata": {},
   "outputs": [],
   "source": []
  },
  {
   "cell_type": "markdown",
   "metadata": {},
   "source": [
    "5. Dessinez la courbe de la fonction de répartition de la loi normale de paramètres $\\hat\\mu$ et $\\hat\\sigma$ sur la même figure que celle de la question 4. Qu'observez vous ?"
   ]
  },
  {
   "cell_type": "markdown",
   "metadata": {},
   "source": [
    "# Exercice 3\n",
    "Le nombre de véhicules passant sur une petite route de campagne en une journée est une variable aléatoire $X$ qui suit une loi de Poisson $\\mathcal{P}(5)$.\n",
    "On va simuler une année de circulation sur cette route. Pour cela, importons la bibliothèque numpy.random\n",
    "à l’aide de l’instruction import numpy.random as rd, et utilisons la commande A = rd.poisson(5,[52,7]).\n",
    "La i-eme ligne de $A$ correspond à la i-eme semaine de circulation. On obtient ainsi une matrice $A$ qui contient\n",
    "$52\\times 7$ nombres tirés suivant la loi $\\mathcal{P}(5)$.\n",
    "\n",
    "1 Déterminer le nombre maximal de véhicules circulant sur la route en une journée durant l’année. Et le\n",
    "nombre maximal de véhicules un mercredi durant l’année ?\n",
    "\n",
    "2 Déterminer les numéros des semaines où la route a connu son maximum de fréquentation.\n",
    "\n",
    "3 Calculer le nombre moyen de véhicules par jour durant ces 364 jours. Recommencez plusieurs fois en\n",
    "recréant la matrice A. Que constatez-vous ? Était-ce prévisible ?\n",
    "\n",
    "4 En une seule ligne de commande, évaluer la probabilité qu’une journée voit passer plus de 8 véhicules. \n",
    "Sauriez-vous calculer la valeur exacte de cette probabilité ? \n",
    "\n",
    "5 Toujours en une seule ligne de commande, déterminer le nombre de jours où la route a connu son minimum\n",
    "de fréquentation."
   ]
  },
  {
   "cell_type": "markdown",
   "metadata": {},
   "source": [
    "# Exercice 4:\n",
    "On lance indéfiniment un dé équilibré à 6 faces numérotées de 1 à 6.\n",
    "Écrire un programme permettant de simuler ces lancers de dé et qui renvoie le rang du lancer où l’on\n",
    "obtient pour la première fois un numéro déjà obtenu"
   ]
  },
  {
   "cell_type": "markdown",
   "metadata": {},
   "source": [
    "# Exercice 5\n",
    "À un guichet, des clients peuvent venir expédier ou retirer un colis. Au cours d’une journée, le nombre\n",
    "de clients $N$ qui s’y présentent suit la loi de Poisson de paramètre $\\lambda$ (où $\\lambda\\in\\mathbb{R}^*_+$). Chaque client a une probabilité $p$ où $p\\in ]0, 1[$ de venir pour expédier un colis et $1- p$ pour en retirer un.\n",
    "On note $C$ le nombre de colis expédiés dans la journée.\n",
    "\n",
    "1 Pour tout $k \\in\\mathbb{N}$, déterminer l’espérance de $C$ conditionnellement à l’événement $[N = k]$.\n",
    "\n",
    "2 En déduire l’espérance de $C$.\n",
    "\n",
    "3 On suppose dans cette question que $p = 0.3$ et $\\lambda = 2.5$.\n",
    "\n",
    "(a) Écrire un programme renvoyant un vecteur $C$ contenant $n = 10000$ réalisations de la variable\n",
    "aléatoire $C$.\n",
    "\n",
    "(b) Comparer alors l’espérance empirique obtenue avec l’espérance théorique.\n",
    "\n",
    "(c) On souhaite représenter le diagramme en bâtons des fréquences de l’échantillon.\n",
    "\n",
    "i. Exécuter la commande np.mean(C<=4). Que dire des valeurs prises par $C$ ?\n",
    "\n",
    "ii. Représenter le diagramme en bâtons des fréquences de l’échantillon"
   ]
  },
  {
   "cell_type": "markdown",
   "metadata": {},
   "source": [
    "# Exercice 6\n",
    "\n",
    "1 Simuler avec la fonction Exponentielle $N = 10000$ valeurs de la loi $\\mathcal{E}(0.5)$.\n",
    "\n",
    "\n",
    "2 Tracer la courbe représentative de la densité $f$ de la loi $\\mathcal{E}(0.5)$.\n",
    "\n",
    "3 Tracer l’histogramme des fréquences de l’échantillon obtenu (on prendra pour cela une\n",
    "subdivision $c$ de l’intervalle $[0, 10]$ en $p = 100$ intervalles de même longueur).\n",
    "\n",
    "Comparer l’histogramme des fréquences de l’échantillon à la courbe représentative de $f$.\n",
    "Qu’en pensez vous ?\n",
    "\n",
    "4 Procéder de même pour la loi $\\Gamma(3)$.\n"
   ]
  },
  {
   "cell_type": "markdown",
   "metadata": {},
   "source": [
    "## BON COURAGE"
   ]
  },
  {
   "cell_type": "code",
   "execution_count": null,
   "metadata": {},
   "outputs": [],
   "source": []
  }
 ],
 "metadata": {
  "kernelspec": {
   "display_name": "Python 3.10.11 64-bit",
   "language": "python",
   "name": "python3"
  },
  "language_info": {
   "codemirror_mode": {
    "name": "ipython",
    "version": 3
   },
   "file_extension": ".py",
   "mimetype": "text/x-python",
   "name": "python",
   "nbconvert_exporter": "python",
   "pygments_lexer": "ipython3",
   "version": "3.10.11"
  },
  "vscode": {
   "interpreter": {
    "hash": "26de051ba29f2982a8de78e945f0abaf191376122a1563185a90213a26c5da77"
   }
  }
 },
 "nbformat": 4,
 "nbformat_minor": 4
}
