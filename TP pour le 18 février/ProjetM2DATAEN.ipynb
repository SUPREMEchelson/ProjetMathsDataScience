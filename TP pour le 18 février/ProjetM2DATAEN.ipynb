{
 "cells": [
  {
   "cell_type": "markdown",
   "metadata": {},
   "source": [
    "#### YNOV - Master 2 DATAEN\n",
    "\n",
    "# Maths DataScience\n",
    "### Probabilités et statistiques, Algèbre linéaire avec Python"
   ]
  },
  {
   "cell_type": "markdown",
   "metadata": {},
   "source": [
    "# 1. Vecteurs et matrices\n",
    "\n",
    "Un élément unique, un vecteur ligne ou colonne sont des cas particuliers de matrice (tableau 2D).\n",
    "\n",
    "Une des bibliothèques de <code>Python</code> les plus utilisées en algèbre linéaire est la bibliothèque <code>numpy</code>. On commence par l'importer pour pouvoir l'utiliser pour la suite."
   ]
  },
  {
   "cell_type": "code",
   "execution_count": 1,
   "metadata": {},
   "outputs": [],
   "source": [
    "import numpy as np"
   ]
  },
  {
   "cell_type": "markdown",
   "metadata": {},
   "source": [
    "### Exercice 1.\n",
    "\n",
    "Création de tableaux, accès à un élément d'un tableau \n",
    "\n",
    "**Note :** Je ne vois pas de question spécifique ni de code à produire dans l'exercice 1. Peut-être je me trompe, d'où cette note."
   ]
  },
  {
   "cell_type": "markdown",
   "metadata": {},
   "source": [
    "Création d'un vecteur ligne :"
   ]
  },
  {
   "cell_type": "code",
   "execution_count": 2,
   "metadata": {},
   "outputs": [
    {
     "data": {
      "text/plain": [
       "array([10, 20, 30, 40])"
      ]
     },
     "execution_count": 2,
     "metadata": {},
     "output_type": "execute_result"
    }
   ],
   "source": [
    "L1 = np.array([10, 20, 30, 40])\n",
    "L1"
   ]
  },
  {
   "cell_type": "markdown",
   "metadata": {},
   "source": [
    "Création d'un vecteur colonne :"
   ]
  },
  {
   "cell_type": "code",
   "execution_count": 3,
   "metadata": {},
   "outputs": [
    {
     "data": {
      "text/plain": [
       "array([[10],\n",
       "       [20],\n",
       "       [30],\n",
       "       [40]])"
      ]
     },
     "execution_count": 3,
     "metadata": {},
     "output_type": "execute_result"
    }
   ],
   "source": [
    "C1 = np.array([[10], [20], [30], [40]])\n",
    "C1"
   ]
  },
  {
   "cell_type": "markdown",
   "metadata": {},
   "source": [
    "<b>Question : </b> Comment obtenir <code>C1</code> à partir de <code>L1</code> ?\n",
    "\n",
    "**En redimentionnant avec reshape.**"
   ]
  },
  {
   "cell_type": "code",
   "execution_count": 4,
   "metadata": {},
   "outputs": [
    {
     "data": {
      "text/plain": [
       "array([[10],\n",
       "       [20],\n",
       "       [30],\n",
       "       [40]])"
      ]
     },
     "execution_count": 4,
     "metadata": {},
     "output_type": "execute_result"
    }
   ],
   "source": [
    "C2 = L1.reshape((4, 1))\n",
    "C2\n"
   ]
  },
  {
   "cell_type": "markdown",
   "metadata": {},
   "source": [
    "Accès à un élément d'un tableau. Les indices commencent à <code>0</code>."
   ]
  },
  {
   "cell_type": "code",
   "execution_count": 5,
   "metadata": {},
   "outputs": [
    {
     "data": {
      "text/plain": [
       "30"
      ]
     },
     "execution_count": 5,
     "metadata": {},
     "output_type": "execute_result"
    }
   ],
   "source": [
    "L1[2]"
   ]
  },
  {
   "cell_type": "code",
   "execution_count": 6,
   "metadata": {},
   "outputs": [
    {
     "data": {
      "text/plain": [
       "array([30])"
      ]
     },
     "execution_count": 6,
     "metadata": {},
     "output_type": "execute_result"
    }
   ],
   "source": [
    "C1[2]"
   ]
  },
  {
   "cell_type": "code",
   "execution_count": 7,
   "metadata": {},
   "outputs": [
    {
     "data": {
      "text/plain": [
       "30"
      ]
     },
     "execution_count": 7,
     "metadata": {},
     "output_type": "execute_result"
    }
   ],
   "source": [
    "C1[2][0]"
   ]
  },
  {
   "cell_type": "markdown",
   "metadata": {},
   "source": [
    "Création d'une matrice :"
   ]
  },
  {
   "cell_type": "code",
   "execution_count": 8,
   "metadata": {},
   "outputs": [
    {
     "data": {
      "text/plain": [
       "array([[10, 20, 30],\n",
       "       [40, 50, 60],\n",
       "       [70, 80, 90]])"
      ]
     },
     "execution_count": 8,
     "metadata": {},
     "output_type": "execute_result"
    }
   ],
   "source": [
    "M1 = np.array([[10, 20, 30], [40, 50, 60], [70, 80, 90]])\n",
    "M1"
   ]
  },
  {
   "cell_type": "markdown",
   "metadata": {},
   "source": [
    "La matrice est <code>3 x 3</code> :"
   ]
  },
  {
   "cell_type": "code",
   "execution_count": 9,
   "metadata": {},
   "outputs": [
    {
     "data": {
      "text/plain": [
       "(3, 3)"
      ]
     },
     "execution_count": 9,
     "metadata": {},
     "output_type": "execute_result"
    }
   ],
   "source": [
    "M1.shape"
   ]
  },
  {
   "cell_type": "markdown",
   "metadata": {},
   "source": [
    "Taille d'une matrice, d'un vecteur, d'un tableau :"
   ]
  },
  {
   "cell_type": "code",
   "execution_count": 10,
   "metadata": {},
   "outputs": [
    {
     "data": {
      "text/plain": [
       "4"
      ]
     },
     "execution_count": 10,
     "metadata": {},
     "output_type": "execute_result"
    }
   ],
   "source": [
    "np.size(L1)"
   ]
  },
  {
   "cell_type": "code",
   "execution_count": 11,
   "metadata": {},
   "outputs": [
    {
     "data": {
      "text/plain": [
       "4"
      ]
     },
     "execution_count": 11,
     "metadata": {},
     "output_type": "execute_result"
    }
   ],
   "source": [
    "np.size(C1)"
   ]
  },
  {
   "cell_type": "code",
   "execution_count": 12,
   "metadata": {},
   "outputs": [
    {
     "data": {
      "text/plain": [
       "9"
      ]
     },
     "execution_count": 12,
     "metadata": {},
     "output_type": "execute_result"
    }
   ],
   "source": [
    "np.size(M1)"
   ]
  },
  {
   "cell_type": "code",
   "execution_count": 13,
   "metadata": {},
   "outputs": [
    {
     "data": {
      "text/plain": [
       "3"
      ]
     },
     "execution_count": 13,
     "metadata": {},
     "output_type": "execute_result"
    }
   ],
   "source": [
    "np.size(M1[1])"
   ]
  },
  {
   "cell_type": "markdown",
   "metadata": {},
   "source": [
    " Accéder aux éléments d'un tableau 2D (indiceLigne, indiceColonne) :"
   ]
  },
  {
   "cell_type": "code",
   "execution_count": 14,
   "metadata": {},
   "outputs": [
    {
     "data": {
      "text/plain": [
       "60"
      ]
     },
     "execution_count": 14,
     "metadata": {},
     "output_type": "execute_result"
    }
   ],
   "source": [
    "iL = 1\n",
    "iC = 2\n",
    "M1[iL, iC]"
   ]
  },
  {
   "cell_type": "markdown",
   "metadata": {},
   "source": [
    "Extraire une ligne, une colonne :"
   ]
  },
  {
   "cell_type": "code",
   "execution_count": 15,
   "metadata": {},
   "outputs": [
    {
     "name": "stdout",
     "output_type": "stream",
     "text": [
      "[40 50 60]\n",
      "[30 60 90]\n"
     ]
    }
   ],
   "source": [
    "print(M1[1, :])\n",
    "print(M1[:, 2])"
   ]
  },
  {
   "cell_type": "markdown",
   "metadata": {},
   "source": [
    "Extraire une sous-matrice :"
   ]
  },
  {
   "cell_type": "code",
   "execution_count": 16,
   "metadata": {},
   "outputs": [
    {
     "data": {
      "text/plain": [
       "array([[40]])"
      ]
     },
     "execution_count": 16,
     "metadata": {},
     "output_type": "execute_result"
    }
   ],
   "source": [
    "M1[1:2, 0:1]"
   ]
  },
  {
   "cell_type": "markdown",
   "metadata": {},
   "source": [
    "Fonctions prédéfinies de création de tableaux :"
   ]
  },
  {
   "cell_type": "code",
   "execution_count": 17,
   "metadata": {},
   "outputs": [
    {
     "data": {
      "text/plain": [
       "array([0., 0., 0.])"
      ]
     },
     "execution_count": 17,
     "metadata": {},
     "output_type": "execute_result"
    }
   ],
   "source": [
    "M2 = np.zeros(3) \n",
    "M2"
   ]
  },
  {
   "cell_type": "code",
   "execution_count": 18,
   "metadata": {},
   "outputs": [
    {
     "data": {
      "text/plain": [
       "array([[0., 0., 0.]])"
      ]
     },
     "execution_count": 18,
     "metadata": {},
     "output_type": "execute_result"
    }
   ],
   "source": [
    "M3 = np.zeros((1,3))\n",
    "M3"
   ]
  },
  {
   "cell_type": "code",
   "execution_count": 19,
   "metadata": {},
   "outputs": [
    {
     "data": {
      "text/plain": [
       "array([[0., 0., 0.],\n",
       "       [0., 0., 0.]])"
      ]
     },
     "execution_count": 19,
     "metadata": {},
     "output_type": "execute_result"
    }
   ],
   "source": [
    "M4 = np.zeros((2, 3))\n",
    "M4"
   ]
  },
  {
   "cell_type": "code",
   "execution_count": 20,
   "metadata": {},
   "outputs": [
    {
     "data": {
      "text/plain": [
       "array([[1., 1., 1., 1.],\n",
       "       [1., 1., 1., 1.]])"
      ]
     },
     "execution_count": 20,
     "metadata": {},
     "output_type": "execute_result"
    }
   ],
   "source": [
    "M5 = np.ones((2,4))\n",
    "M5"
   ]
  },
  {
   "cell_type": "code",
   "execution_count": 21,
   "metadata": {},
   "outputs": [
    {
     "data": {
      "text/plain": [
       "array([[1., 0., 0.],\n",
       "       [0., 1., 0.],\n",
       "       [0., 0., 1.]])"
      ]
     },
     "execution_count": 21,
     "metadata": {},
     "output_type": "execute_result"
    }
   ],
   "source": [
    "Id = np.eye(3) \n",
    "Id"
   ]
  },
  {
   "cell_type": "markdown",
   "metadata": {},
   "source": [
    "Créer un tableau à partir de ses lignes :"
   ]
  },
  {
   "cell_type": "code",
   "execution_count": 22,
   "metadata": {},
   "outputs": [
    {
     "data": {
      "text/plain": [
       "array([[ 5,  1,  3],\n",
       "       [10,  4,  2],\n",
       "       [ 3,  5,  0]])"
      ]
     },
     "execution_count": 22,
     "metadata": {},
     "output_type": "execute_result"
    }
   ],
   "source": [
    "L1 = np.array([5, 1, 3])\n",
    "L2 = np.array([10, 4, 2])\n",
    "L3 = np.array([3, 5, 0])\n",
    "M6 = np.concatenate(([L1], [L2], [L3]))\n",
    "M6"
   ]
  },
  {
   "cell_type": "markdown",
   "metadata": {},
   "source": [
    "Redimensionner une matrice :\n",
    "\n",
    "    - le nombre d'élements est le même avant et après\n",
    "    - le parcours ligne par ligne donne la même suite d'éléments"
   ]
  },
  {
   "cell_type": "code",
   "execution_count": 23,
   "metadata": {},
   "outputs": [
    {
     "data": {
      "text/plain": [
       "array([[ 5,  1,  3],\n",
       "       [10,  4,  2]])"
      ]
     },
     "execution_count": 23,
     "metadata": {},
     "output_type": "execute_result"
    }
   ],
   "source": [
    "L1 = np.array([5, 1, 3])\n",
    "L2 = np.array([10, 4, 2])\n",
    "M7 = np.concatenate(([L1], [L2]))\n",
    "M7"
   ]
  },
  {
   "cell_type": "code",
   "execution_count": 24,
   "metadata": {},
   "outputs": [
    {
     "data": {
      "text/plain": [
       "array([[ 5,  1],\n",
       "       [ 3, 10],\n",
       "       [ 4,  2]])"
      ]
     },
     "execution_count": 24,
     "metadata": {},
     "output_type": "execute_result"
    }
   ],
   "source": [
    "M8 = np.reshape(M7, (3, 2))\n",
    "M8"
   ]
  },
  {
   "cell_type": "markdown",
   "metadata": {},
   "source": [
    "##### Opérations sur les matrices "
   ]
  },
  {
   "cell_type": "markdown",
   "metadata": {},
   "source": [
    "Produit scalaire de deux vecteurs :"
   ]
  },
  {
   "cell_type": "code",
   "execution_count": 25,
   "metadata": {},
   "outputs": [
    {
     "data": {
      "text/plain": [
       "14"
      ]
     },
     "execution_count": 25,
     "metadata": {},
     "output_type": "execute_result"
    }
   ],
   "source": [
    "L1 = np.array([1, 2, 3])\n",
    "L2 = np.array([1, 2, 3])\n",
    "prod = np.dot(L1, L2)\n",
    "prod"
   ]
  },
  {
   "cell_type": "markdown",
   "metadata": {},
   "source": [
    "Soit <code>M</code> la matrice définie comme suit :"
   ]
  },
  {
   "cell_type": "code",
   "execution_count": 26,
   "metadata": {},
   "outputs": [
    {
     "data": {
      "text/plain": [
       "array([[ 0.  ,  1.25,  2.5 ,  3.75,  5.  ,  6.25,  7.5 ,  8.75, 10.  ],\n",
       "       [ 0.  ,  1.25,  2.5 ,  3.75,  5.  ,  6.25,  7.5 ,  8.75, 10.  ],\n",
       "       [ 0.  ,  1.25,  2.5 ,  3.75,  5.  ,  6.25,  7.5 ,  8.75, 10.  ]])"
      ]
     },
     "execution_count": 26,
     "metadata": {},
     "output_type": "execute_result"
    }
   ],
   "source": [
    "L = np.linspace(0, 10, 9)\n",
    "M = np.array([L, L, L])\n",
    "M"
   ]
  },
  {
   "cell_type": "markdown",
   "metadata": {},
   "source": [
    "Somme de deux matrices :"
   ]
  },
  {
   "cell_type": "code",
   "execution_count": 27,
   "metadata": {},
   "outputs": [
    {
     "data": {
      "text/plain": [
       "array([[ 0. ,  2.5,  5. ,  7.5, 10. , 12.5, 15. , 17.5, 20. ],\n",
       "       [ 0. ,  2.5,  5. ,  7.5, 10. , 12.5, 15. , 17.5, 20. ],\n",
       "       [ 0. ,  2.5,  5. ,  7.5, 10. , 12.5, 15. , 17.5, 20. ]])"
      ]
     },
     "execution_count": 27,
     "metadata": {},
     "output_type": "execute_result"
    }
   ],
   "source": [
    "M + M"
   ]
  },
  {
   "cell_type": "markdown",
   "metadata": {},
   "source": [
    "Produit élément par élément de deux matrices :"
   ]
  },
  {
   "cell_type": "code",
   "execution_count": 28,
   "metadata": {},
   "outputs": [
    {
     "data": {
      "text/plain": [
       "array([[  0.    ,   1.5625,   6.25  ,  14.0625,  25.    ,  39.0625,\n",
       "         56.25  ,  76.5625, 100.    ],\n",
       "       [  0.    ,   1.5625,   6.25  ,  14.0625,  25.    ,  39.0625,\n",
       "         56.25  ,  76.5625, 100.    ],\n",
       "       [  0.    ,   1.5625,   6.25  ,  14.0625,  25.    ,  39.0625,\n",
       "         56.25  ,  76.5625, 100.    ]])"
      ]
     },
     "execution_count": 28,
     "metadata": {},
     "output_type": "execute_result"
    }
   ],
   "source": [
    "M * M"
   ]
  },
  {
   "cell_type": "markdown",
   "metadata": {},
   "source": [
    "Produit de deux matrices (compatibles) :"
   ]
  },
  {
   "cell_type": "code",
   "execution_count": 29,
   "metadata": {},
   "outputs": [
    {
     "ename": "ValueError",
     "evalue": "matmul: Input operand 1 has a mismatch in its core dimension 0, with gufunc signature (n?,k),(k,m?)->(n?,m?) (size 3 is different from 9)",
     "output_type": "error",
     "traceback": [
      "\u001b[1;31m---------------------------------------------------------------------------\u001b[0m",
      "\u001b[1;31mValueError\u001b[0m                                Traceback (most recent call last)",
      "Cell \u001b[1;32mIn[29], line 1\u001b[0m\n\u001b[1;32m----> 1\u001b[0m np\u001b[39m.\u001b[39;49mmatmul(M, M) \u001b[39m#erreur : pourquoi ?\u001b[39;00m\n",
      "\u001b[1;31mValueError\u001b[0m: matmul: Input operand 1 has a mismatch in its core dimension 0, with gufunc signature (n?,k),(k,m?)->(n?,m?) (size 3 is different from 9)"
     ]
    }
   ],
   "source": [
    "np.matmul(M, M) #erreur : pourquoi ?\n",
    "# Transposition"
   ]
  },
  {
   "cell_type": "code",
   "execution_count": 30,
   "metadata": {},
   "outputs": [
    {
     "data": {
      "text/plain": [
       "array([[318.75, 318.75, 318.75],\n",
       "       [318.75, 318.75, 318.75],\n",
       "       [318.75, 318.75, 318.75]])"
      ]
     },
     "execution_count": 30,
     "metadata": {},
     "output_type": "execute_result"
    }
   ],
   "source": [
    "np.matmul(M, M.T)"
   ]
  },
  {
   "cell_type": "markdown",
   "metadata": {},
   "source": [
    "A présent, nous allons illustrer la puissance de le bibliothèque <code>numpy</code>. Pour cela nous allons d'abord définir notre propre fonction <code>prod_matrices</code> calculant le produit en utilisant des boucles imbriquées : "
   ]
  },
  {
   "cell_type": "code",
   "execution_count": 31,
   "metadata": {},
   "outputs": [],
   "source": [
    "def prod_matrices(M1, M2):\n",
    "    M = np.zeros((M1.shape[0], M2.shape[1]))\n",
    "    for i in range(M1.shape[0]):\n",
    "        for j in range(M2.shape[1]):\n",
    "            for k in range(M1.shape[1]):\n",
    "                M[i, j] += M1[i, k] * M2[k,j] \n",
    "    return M"
   ]
  },
  {
   "cell_type": "markdown",
   "metadata": {},
   "source": [
    "Test de la fonction :"
   ]
  },
  {
   "cell_type": "code",
   "execution_count": 32,
   "metadata": {},
   "outputs": [
    {
     "data": {
      "text/plain": [
       "array([[13.,  9.],\n",
       "       [57., 41.]])"
      ]
     },
     "execution_count": 32,
     "metadata": {},
     "output_type": "execute_result"
    }
   ],
   "source": [
    "M1 = np.array([[2, 1, 1], [4, 5, 7]])\n",
    "M2 = np.array([[3, 2], [2, 1], [5, 4]])\n",
    "prod_matrices(M1, M2)"
   ]
  },
  {
   "cell_type": "markdown",
   "metadata": {},
   "source": [
    "Avec un peu plus d'éléments :"
   ]
  },
  {
   "cell_type": "code",
   "execution_count": 33,
   "metadata": {},
   "outputs": [],
   "source": [
    "L = np.linspace(0, 1000, 1000)\n",
    "M = np.array([L, L, L])"
   ]
  },
  {
   "cell_type": "code",
   "execution_count": 34,
   "metadata": {},
   "outputs": [
    {
     "data": {
      "text/plain": [
       "array([[3.33500167e+08, 3.33500167e+08, 3.33500167e+08],\n",
       "       [3.33500167e+08, 3.33500167e+08, 3.33500167e+08],\n",
       "       [3.33500167e+08, 3.33500167e+08, 3.33500167e+08]])"
      ]
     },
     "execution_count": 34,
     "metadata": {},
     "output_type": "execute_result"
    }
   ],
   "source": [
    "P = prod_matrices(M, M.T)\n",
    "P"
   ]
  },
  {
   "cell_type": "markdown",
   "metadata": {},
   "source": [
    "La fonction <code>time</code> permet d'afficher des statistiques sur le temps d'exécution d'une instruction <code>Python</code>. Exécutez les instructions suivantes et observez les résultats :"
   ]
  },
  {
   "cell_type": "code",
   "execution_count": 35,
   "metadata": {},
   "outputs": [
    {
     "name": "stdout",
     "output_type": "stream",
     "text": [
      "CPU times: total: 0 ns\n",
      "Wall time: 3.98 ms\n"
     ]
    }
   ],
   "source": [
    "%time P = prod_matrices(M, M.T) "
   ]
  },
  {
   "cell_type": "code",
   "execution_count": 36,
   "metadata": {},
   "outputs": [
    {
     "name": "stdout",
     "output_type": "stream",
     "text": [
      "CPU times: total: 0 ns\n",
      "Wall time: 0 ns\n"
     ]
    }
   ],
   "source": [
    "%time P= np.matmul(M, M.T)"
   ]
  },
  {
   "cell_type": "markdown",
   "metadata": {},
   "source": [
    "La différence est encore plus flagrante si on utilise des matrices creuses : "
   ]
  },
  {
   "cell_type": "code",
   "execution_count": 37,
   "metadata": {},
   "outputs": [],
   "source": [
    "L1 = np.linspace(0, 1000, 1000)\n",
    "L2 = np.zeros(1000)\n",
    "M = np.array([L2, L2, L1])"
   ]
  },
  {
   "cell_type": "code",
   "execution_count": 38,
   "metadata": {},
   "outputs": [
    {
     "name": "stdout",
     "output_type": "stream",
     "text": [
      "CPU times: total: 0 ns\n",
      "Wall time: 5 ms\n"
     ]
    }
   ],
   "source": [
    "%time P = prod_matrices(M, M.T) "
   ]
  },
  {
   "cell_type": "code",
   "execution_count": 39,
   "metadata": {},
   "outputs": [
    {
     "name": "stdout",
     "output_type": "stream",
     "text": [
      "CPU times: total: 0 ns\n",
      "Wall time: 0 ns\n"
     ]
    }
   ],
   "source": [
    "%time P= np.matmul(M, M.T)"
   ]
  },
  {
   "cell_type": "markdown",
   "metadata": {},
   "source": [
    "### Exercice 2.\n",
    "\n",
    "Chercher des éléments dans un tableau"
   ]
  },
  {
   "cell_type": "markdown",
   "metadata": {},
   "source": [
    "1. A tester : \n",
    "\n",
    "**C'est testé.**"
   ]
  },
  {
   "cell_type": "code",
   "execution_count": 40,
   "metadata": {},
   "outputs": [],
   "source": [
    "from random import sample, choices"
   ]
  },
  {
   "cell_type": "code",
   "execution_count": 41,
   "metadata": {},
   "outputs": [
    {
     "data": {
      "text/plain": [
       "array([ 4,  2,  8, 10, 16,  1, 11,  7, 15, 13, 14, 22,  1, 17, 10, 10,  8,\n",
       "        5,  4,  9,  1, 24, 17, 15,  9, 21, 21, 14,  3, 14,  7, 14, 19, 19,\n",
       "        9, 10, 18, 17, 11, 22, 16, 20, 12, 20, 18,  2, 12,  4, 21, 23, 15,\n",
       "       10, 10, 21, 11, 13,  7, 10, 21, 20, 23, 12, 18, 11,  8,  2, 21, 23,\n",
       "       14, 17,  4,  8, 21, 10,  9, 12, 23, 18, 14,  6,  2, 14, 22, 15, 23,\n",
       "       24,  5,  9,  1, 14,  8,  9, 10,  2, 13,  2,  8,  7, 12, 21, 15,  6,\n",
       "        3, 12,  4,  9,  2,  4, 20, 17,  5, 15, 11,  8,  8, 22,  3, 10,  9,\n",
       "        7, 22, 11, 18,  3,  6, 21,  2,  3,  9, 19,  9, 19,  4, 22, 19, 13,\n",
       "        4,  3, 14, 20, 20, 12, 11,  3,  2, 17, 23, 20, 23,  1, 18,  8,  1,\n",
       "        2,  4,  4, 22,  1, 12,  6,  3,  9,  3, 14, 21, 10, 20, 15, 22, 12,\n",
       "       18, 14, 16, 12, 19, 12,  5,  6,  8,  2,  7, 14,  5, 23, 10,  1, 14,\n",
       "        5, 23, 22, 20,  5,  3, 21, 24, 16, 15,  8,  3, 20])"
      ]
     },
     "execution_count": 41,
     "metadata": {},
     "output_type": "execute_result"
    }
   ],
   "source": [
    "V1 = np.reshape(choices(range(1, 25), k=200), (200, ))\n",
    "V1"
   ]
  },
  {
   "cell_type": "code",
   "execution_count": 42,
   "metadata": {},
   "outputs": [
    {
     "data": {
      "text/plain": [
       "array([22, 24, 21, 21, 22, 21, 23, 21, 21, 23, 21, 23, 21, 23, 22, 23, 24,\n",
       "       21, 22, 22, 21, 22, 23, 23, 22, 21, 22, 23, 23, 22, 21, 24])"
      ]
     },
     "execution_count": 42,
     "metadata": {},
     "output_type": "execute_result"
    }
   ],
   "source": [
    "V2 = V1[V1>20]\n",
    "V2"
   ]
  },
  {
   "cell_type": "markdown",
   "metadata": {},
   "source": [
    "2. Créer deux vecteurs ligne d’entiers <code>Va</code> et <code>Vb</code>, de même taille, contenant des valeurs entières aléatoires.\n",
    "\n",
    "**Réponse :** Création d'une fonction pour permettre la réutilisation et l'optimisation du code."
   ]
  },
  {
   "cell_type": "code",
   "execution_count": 45,
   "metadata": {},
   "outputs": [
    {
     "data": {
      "text/plain": [
       "array([69, 36, 17, 61, 79])"
      ]
     },
     "execution_count": 45,
     "metadata": {},
     "output_type": "execute_result"
    }
   ],
   "source": [
    "def creer_vecteur_aléatoire(taille, min_val=0, max_val=100):\n",
    "    return np.random.randint(min_val, max_val, taille)\n",
    "Va = creer_vecteur_aléatoire(5)\n",
    "Vb = creer_vecteur_aléatoire(5)\n",
    "\n",
    "Va"
   ]
  },
  {
   "cell_type": "code",
   "execution_count": 46,
   "metadata": {},
   "outputs": [
    {
     "data": {
      "text/plain": [
       "array([63, 92,  7, 86, 18])"
      ]
     },
     "execution_count": 46,
     "metadata": {},
     "output_type": "execute_result"
    }
   ],
   "source": [
    "Vb \n"
   ]
  },
  {
   "cell_type": "markdown",
   "metadata": {},
   "source": [
    "3. Tester le code suivant. Que contient <code>V</code>?"
   ]
  },
  {
   "cell_type": "markdown",
   "metadata": {},
   "source": [
    "**Réponse :** V contient les plus hautes valeurs pour chaque cellule."
   ]
  },
  {
   "cell_type": "code",
   "execution_count": 47,
   "metadata": {},
   "outputs": [
    {
     "data": {
      "text/plain": [
       "array([69, 92, 17, 86, 79])"
      ]
     },
     "execution_count": 47,
     "metadata": {},
     "output_type": "execute_result"
    }
   ],
   "source": [
    "V = np.array([Va[i] if Va[i] > Vb[i] else Vb[i] for i in range(Va.shape[0])])\n",
    "V"
   ]
  },
  {
   "cell_type": "markdown",
   "metadata": {},
   "source": [
    "4. Quelle est la fonction de <code>numpy</code> qui permet d'obtenir le même résultat? Tester.\n",
    "\n",
    "**Réponse :** La fonction \"maximum\"."
   ]
  },
  {
   "cell_type": "code",
   "execution_count": 48,
   "metadata": {},
   "outputs": [
    {
     "data": {
      "text/plain": [
       "array([69, 92, 17, 86, 79])"
      ]
     },
     "execution_count": 48,
     "metadata": {},
     "output_type": "execute_result"
    }
   ],
   "source": [
    "V = np.maximum(Va, Vb)\n",
    "V"
   ]
  },
  {
   "cell_type": "markdown",
   "metadata": {},
   "source": [
    "# 2. Probabilités et statistiques, lois usuelles\n",
    "\n",
    "Dans cette section, nous allons passer en revue quelques éléments de probabilités et statistiques. Nous allons essentiellement faire de l'inférence statistique et manipuler la loi normale."
   ]
  },
  {
   "cell_type": "markdown",
   "metadata": {},
   "source": [
    "#### Loi des grands nombres\n",
    "\n",
    "On lance une pièce biaiséé. On obtient pile avec probabilité $p\\in[0, 1]$ et face avec probabilité $q = 1 - p$.\n",
    "\n",
    "Ecrire une fonction <code>lancer(n, p)</code> qui simule le lancer de ce dé <code>n</code> fois avec la probabilité <code>p</code> d'obtenir pile et qui retourne le nombre de fois où pile est obtenu.\n",
    "\n",
    "<em>Indication :</em> <code>uniform(0,1)</code> de la bibliothèque <code>random</code> retourne un nombre réel aléatoire tiré uniformément dans l'intervalle $[0, 1]$. "
   ]
  },
  {
   "cell_type": "code",
   "execution_count": 50,
   "metadata": {},
   "outputs": [],
   "source": [
    "from numpy.random import uniform\n",
    "def lancer(n, p):\n",
    "    # Générer n valeurs aléatoires entre 0 et 1\n",
    "    resultats = uniform(0, 1, n)\n",
    "    # Compter combien de fois le résultat est inférieur à p (pile)\n",
    "    nombre_piles = sum(resultats < p)\n",
    "    return nombre_piles"
   ]
  },
  {
   "cell_type": "markdown",
   "metadata": {},
   "source": [
    "Essayer avec différentes valeurs $p$ et des valeurs de $n$ croissantes. Qu'observez-vous ?\n",
    "\n",
    "**Réponse :** Nous remarquons que, mis à part des légères variations, plus nous augmenton sla valeur de n, plus nous nous approchons de p."
   ]
  },
  {
   "cell_type": "code",
   "execution_count": 51,
   "metadata": {},
   "outputs": [
    {
     "data": {
      "text/plain": [
       "505"
      ]
     },
     "execution_count": 51,
     "metadata": {},
     "output_type": "execute_result"
    }
   ],
   "source": [
    "nombre_piles = lancer(1000, 0.5)\n",
    "nombre_piles"
   ]
  },
  {
   "cell_type": "code",
   "execution_count": 52,
   "metadata": {},
   "outputs": [
    {
     "data": {
      "text/plain": [
       "5002"
      ]
     },
     "execution_count": 52,
     "metadata": {},
     "output_type": "execute_result"
    }
   ],
   "source": [
    "nombre_piles = lancer(10000, 0.5)\n",
    "nombre_piles"
   ]
  },
  {
   "cell_type": "code",
   "execution_count": 53,
   "metadata": {},
   "outputs": [
    {
     "data": {
      "text/plain": [
       "885"
      ]
     },
     "execution_count": 53,
     "metadata": {},
     "output_type": "execute_result"
    }
   ],
   "source": [
    "nombre_piles = lancer(1000, 0.9)\n",
    "nombre_piles"
   ]
  },
  {
   "cell_type": "markdown",
   "metadata": {},
   "source": [
    "#### Loi normale\n",
    "\n",
    "La loi normale est très utilisée en statistiques. Elle est, entre autre, la loi limite pour d'autres lois. \n",
    "\n",
    "Commençons par générer des nombres suivant une loi normale mais avec différentes valeurs pour les paramètres $\\mu$ et $\\sigma$.\n",
    "\n",
    "Exécutez la cellule suivante et observez le résultat : "
   ]
  },
  {
   "cell_type": "code",
   "execution_count": 54,
   "metadata": {},
   "outputs": [
    {
     "data": {
      "image/png": "[encoded data removed]",
      "text/plain": [
       "<Figure size 640x480 with 1 Axes>"
      ]
     },
     "metadata": {},
     "output_type": "display_data"
    }
   ],
   "source": [
    "from scipy.stats import norm\n",
    "import matplotlib.pyplot as plt\n",
    "%matplotlib inline\n",
    "\n",
    "mu = [0, 1, 2, 3]\n",
    "sigma = [1, 2, 3, 4]\n",
    "\n",
    "x_min = -16\n",
    "x_max = 16\n",
    "x_nb = 100\n",
    "\n",
    "x = np.linspace(x_min, x_max, x_nb)\n",
    "\n",
    "for i in range(len(mu)):\n",
    "    y = norm.pdf(x, mu[i], sigma[i])\n",
    "    plt.plot(x, y, label='mu='+str(mu[i])+', sigma='+str(sigma[i]))\n",
    "plt.legend(loc='upper right')\n",
    "plt.show()"
   ]
  },
  {
   "cell_type": "markdown",
   "metadata": {},
   "source": [
    "Commentez les courbes et observez l'impact des valeurs de $\\sigma$.\n",
    "\n",
    "**Réponse :** Nous remarquons que plus la valeur de sigma est élevée, plus la courbe est écrasée."
   ]
  },
  {
   "cell_type": "markdown",
   "metadata": {},
   "source": [
    "## Inférence des paramètres d'une loi normale\n",
    "\n",
    "On insère une bannière publicitaire dans une page web. On trace les connexions à cette page auprès de $50$ utilisateurs et ce pendant $1000$ jours. Pour chaque visite on note si l'utilisateur a cliqué sur la bannière ou non. \n",
    "\n",
    "Les chiffres des clics (par jour) sont donnés dans le fichier <code>baniere.csv</code> disponible à l'adresse https://www.labri.fr/perso/zemmari/datasets/baniere.csv."
   ]
  },
  {
   "cell_type": "markdown",
   "metadata": {},
   "source": [
    "1. Charger les données dans une variable de nom <code>data</code> en utilisant la fonction <code>read_csv</code> de la bibliothèque <code>pandas</code> (elle accepte les urls)."
   ]
  },
  {
   "cell_type": "code",
   "execution_count": 55,
   "metadata": {},
   "outputs": [
    {
     "data": {
      "text/html": [
       "<div>\n",
       "<style scoped>\n",
       "    .dataframe tbody tr th:only-of-type {\n",
       "        vertical-align: middle;\n",
       "    }\n",
       "\n",
       "    .dataframe tbody tr th {\n",
       "        vertical-align: top;\n",
       "    }\n",
       "\n",
       "    .dataframe thead th {\n",
       "        text-align: right;\n",
       "    }\n",
       "</style>\n",
       "<table border=\"1\" class=\"dataframe\">\n",
       "  <thead>\n",
       "    <tr style=\"text-align: right;\">\n",
       "      <th></th>\n",
       "      <th>14</th>\n",
       "    </tr>\n",
       "  </thead>\n",
       "  <tbody>\n",
       "    <tr>\n",
       "      <th>0</th>\n",
       "      <td>17</td>\n",
       "    </tr>\n",
       "    <tr>\n",
       "      <th>1</th>\n",
       "      <td>8</td>\n",
       "    </tr>\n",
       "    <tr>\n",
       "      <th>2</th>\n",
       "      <td>20</td>\n",
       "    </tr>\n",
       "    <tr>\n",
       "      <th>3</th>\n",
       "      <td>19</td>\n",
       "    </tr>\n",
       "    <tr>\n",
       "      <th>4</th>\n",
       "      <td>9</td>\n",
       "    </tr>\n",
       "  </tbody>\n",
       "</table>\n",
       "</div>"
      ],
      "text/plain": [
       "   14\n",
       "0  17\n",
       "1   8\n",
       "2  20\n",
       "3  19\n",
       "4   9"
      ]
     },
     "execution_count": 55,
     "metadata": {},
     "output_type": "execute_result"
    }
   ],
   "source": [
    "import pandas as pd\n",
    "\n",
    "data = pd.read_csv('baniere.csv')\n",
    "data.head()"
   ]
  },
  {
   "cell_type": "markdown",
   "metadata": {},
   "source": [
    "2. Donner une estimation de la probabilité qu'un visiteur du site (choisi au hasard) clique sur la bannière. "
   ]
  },
  {
   "cell_type": "code",
   "execution_count": 58,
   "metadata": {},
   "outputs": [
    {
     "name": "stdout",
     "output_type": "stream",
     "text": [
      "La probabilité qu'un utilisateur clique sur la bannière est de :  30.346346346346348 %\n"
     ]
    }
   ],
   "source": [
    "moyenne = data['14'].mean()\n",
    "pourcentage = moyenne * 2\n",
    "print(\"La probabilité qu'un utilisateur clique sur la bannière est de : \", pourcentage, '%')\n"
   ]
  },
  {
   "cell_type": "markdown",
   "metadata": {},
   "source": [
    "3. Le code suivant permet de tracer l'histogramme des données comme une courbe. Qu'observez-vous pour la forme de la courbe ? "
   ]
  },
  {
   "cell_type": "code",
   "execution_count": 59,
   "metadata": {},
   "outputs": [
    {
     "ename": "KeyError",
     "evalue": "0",
     "output_type": "error",
     "traceback": [
      "\u001b[1;31m---------------------------------------------------------------------------\u001b[0m",
      "\u001b[1;31mKeyError\u001b[0m                                  Traceback (most recent call last)",
      "File \u001b[1;32m~\\AppData\\Roaming\\Python\\Python310\\site-packages\\pandas\\core\\indexes\\base.py:3790\u001b[0m, in \u001b[0;36mIndex.get_loc\u001b[1;34m(self, key)\u001b[0m\n\u001b[0;32m   3789\u001b[0m \u001b[39mtry\u001b[39;00m:\n\u001b[1;32m-> 3790\u001b[0m     \u001b[39mreturn\u001b[39;00m \u001b[39mself\u001b[39;49m\u001b[39m.\u001b[39;49m_engine\u001b[39m.\u001b[39;49mget_loc(casted_key)\n\u001b[0;32m   3791\u001b[0m \u001b[39mexcept\u001b[39;00m \u001b[39mKeyError\u001b[39;00m \u001b[39mas\u001b[39;00m err:\n",
      "File \u001b[1;32mindex.pyx:152\u001b[0m, in \u001b[0;36mpandas._libs.index.IndexEngine.get_loc\u001b[1;34m()\u001b[0m\n",
      "File \u001b[1;32mindex.pyx:181\u001b[0m, in \u001b[0;36mpandas._libs.index.IndexEngine.get_loc\u001b[1;34m()\u001b[0m\n",
      "File \u001b[1;32mpandas\\_libs\\hashtable_class_helper.pxi:7080\u001b[0m, in \u001b[0;36mpandas._libs.hashtable.PyObjectHashTable.get_item\u001b[1;34m()\u001b[0m\n",
      "File \u001b[1;32mpandas\\_libs\\hashtable_class_helper.pxi:7088\u001b[0m, in \u001b[0;36mpandas._libs.hashtable.PyObjectHashTable.get_item\u001b[1;34m()\u001b[0m\n",
      "\u001b[1;31mKeyError\u001b[0m: 0",
      "\nThe above exception was the direct cause of the following exception:\n",
      "\u001b[1;31mKeyError\u001b[0m                                  Traceback (most recent call last)",
      "Cell \u001b[1;32mIn[59], line 3\u001b[0m\n\u001b[0;32m      1\u001b[0m \u001b[39mfrom\u001b[39;00m \u001b[39mcollections\u001b[39;00m \u001b[39mimport\u001b[39;00m Counter\n\u001b[1;32m----> 3\u001b[0m compteur \u001b[39m=\u001b[39m Counter(\u001b[39mlist\u001b[39m(data[\u001b[39m0\u001b[39;49m]))\n\u001b[0;32m      4\u001b[0m \u001b[39m#print(compteur)\u001b[39;00m\n\u001b[0;32m      6\u001b[0m x \u001b[39m=\u001b[39m \u001b[39mlist\u001b[39m(compteur\u001b[39m.\u001b[39mkeys())\n",
      "File \u001b[1;32m~\\AppData\\Roaming\\Python\\Python310\\site-packages\\pandas\\core\\frame.py:3896\u001b[0m, in \u001b[0;36mDataFrame.__getitem__\u001b[1;34m(self, key)\u001b[0m\n\u001b[0;32m   3894\u001b[0m \u001b[39mif\u001b[39;00m \u001b[39mself\u001b[39m\u001b[39m.\u001b[39mcolumns\u001b[39m.\u001b[39mnlevels \u001b[39m>\u001b[39m \u001b[39m1\u001b[39m:\n\u001b[0;32m   3895\u001b[0m     \u001b[39mreturn\u001b[39;00m \u001b[39mself\u001b[39m\u001b[39m.\u001b[39m_getitem_multilevel(key)\n\u001b[1;32m-> 3896\u001b[0m indexer \u001b[39m=\u001b[39m \u001b[39mself\u001b[39;49m\u001b[39m.\u001b[39;49mcolumns\u001b[39m.\u001b[39;49mget_loc(key)\n\u001b[0;32m   3897\u001b[0m \u001b[39mif\u001b[39;00m is_integer(indexer):\n\u001b[0;32m   3898\u001b[0m     indexer \u001b[39m=\u001b[39m [indexer]\n",
      "File \u001b[1;32m~\\AppData\\Roaming\\Python\\Python310\\site-packages\\pandas\\core\\indexes\\base.py:3797\u001b[0m, in \u001b[0;36mIndex.get_loc\u001b[1;34m(self, key)\u001b[0m\n\u001b[0;32m   3792\u001b[0m     \u001b[39mif\u001b[39;00m \u001b[39misinstance\u001b[39m(casted_key, \u001b[39mslice\u001b[39m) \u001b[39mor\u001b[39;00m (\n\u001b[0;32m   3793\u001b[0m         \u001b[39misinstance\u001b[39m(casted_key, abc\u001b[39m.\u001b[39mIterable)\n\u001b[0;32m   3794\u001b[0m         \u001b[39mand\u001b[39;00m \u001b[39many\u001b[39m(\u001b[39misinstance\u001b[39m(x, \u001b[39mslice\u001b[39m) \u001b[39mfor\u001b[39;00m x \u001b[39min\u001b[39;00m casted_key)\n\u001b[0;32m   3795\u001b[0m     ):\n\u001b[0;32m   3796\u001b[0m         \u001b[39mraise\u001b[39;00m InvalidIndexError(key)\n\u001b[1;32m-> 3797\u001b[0m     \u001b[39mraise\u001b[39;00m \u001b[39mKeyError\u001b[39;00m(key) \u001b[39mfrom\u001b[39;00m \u001b[39merr\u001b[39;00m\n\u001b[0;32m   3798\u001b[0m \u001b[39mexcept\u001b[39;00m \u001b[39mTypeError\u001b[39;00m:\n\u001b[0;32m   3799\u001b[0m     \u001b[39m# If we have a listlike key, _check_indexing_error will raise\u001b[39;00m\n\u001b[0;32m   3800\u001b[0m     \u001b[39m#  InvalidIndexError. Otherwise we fall through and re-raise\u001b[39;00m\n\u001b[0;32m   3801\u001b[0m     \u001b[39m#  the TypeError.\u001b[39;00m\n\u001b[0;32m   3802\u001b[0m     \u001b[39mself\u001b[39m\u001b[39m.\u001b[39m_check_indexing_error(key)\n",
      "\u001b[1;31mKeyError\u001b[0m: 0"
     ]
    }
   ],
   "source": [
    "from collections import Counter\n",
    "\n",
    "compteur = Counter(list(data[0]))\n",
    "#print(compteur)\n",
    "\n",
    "x = list(compteur.keys())\n",
    "print(x)\n",
    "y = [compteur[x[i]] for i in range(len(x))  ]\n",
    "print(y)\n",
    "plt.scatter(x, y, c='red', marker='+')"
   ]
  },
  {
   "cell_type": "markdown",
   "metadata": {},
   "source": [
    "4. Calculez l'estimateur $\\hat\\mu$ de la moyenne et $\\hat\\sigma$ de la variance. \n",
    "\n",
    "<em>Indication :</em> des estimateurs non biaisés de la moyenne et de la variance d'une série $(x_i)_{1\\leq i\\leq n}$ sont donnés par :\n",
    "$$\n",
    "\\hat\\mu = \\frac 1 n \\sum_{i=1}^n x_i, \\,\\,\\,\\, \\hat\\sigma^2 = \\frac 1 {n} \\sum_{i=1}^n \\left(x_i - \\hat\\mu\\right)^2.\n",
    "$$\n",
    "On peut néanmoins utiliser directement les fonctions <code>average</code> et <code>std</code> de la bibliothèque <code>numpy</code>."
   ]
  },
  {
   "cell_type": "code",
   "execution_count": 60,
   "metadata": {},
   "outputs": [
    {
     "name": "stdout",
     "output_type": "stream",
     "text": [
      "Estimateur de la moyenne (mu_chapeau): 1.3145040611561853e-15\n",
      "Estimateur de la variance (sigma_chapeau^2): 87.9366051083223\n"
     ]
    }
   ],
   "source": [
    "mu_chapeau = np.average(x)\n",
    "sigma_chapeau_carre = np.var(x, ddof=1)\n",
    "print(\"Estimateur de la moyenne (mu_chapeau):\", mu_chapeau)\n",
    "print(\"Estimateur de la variance (sigma_chapeau^2):\", sigma_chapeau_carre)"
   ]
  },
  {
   "cell_type": "markdown",
   "metadata": {},
   "source": [
    "5. Dessinez la courbe de la fonction de répartition de la loi normale de paramètres $\\hat\\mu$ et $\\hat\\sigma$ sur la même figure que celle de la question 4. Qu'observez vous ?"
   ]
  },
  {
   "cell_type": "code",
   "execution_count": 61,
   "metadata": {},
   "outputs": [
    {
     "data": {
      "image/png": "[encoded data removed]",
      "text/plain": [
       "<Figure size 640x480 with 1 Axes>"
      ]
     },
     "metadata": {},
     "output_type": "display_data"
    }
   ],
   "source": [
    "import numpy as np\n",
    "import matplotlib.pyplot as plt\n",
    "from scipy.stats import norm\n",
    "\n",
    "# Simuler des données\n",
    "np.random.seed(0)  # Pour la reproductibilité\n",
    "x = np.random.normal(loc=0, scale=1, size=1000)  # Générer des données normales\n",
    "\n",
    "# Calculer les estimateurs\n",
    "mu_chapeau = np.average(x)\n",
    "sigma_chapeau = np.std(x, ddof=1)\n",
    "\n",
    "# Points pour le tracé de la CDF\n",
    "x_values = np.linspace(np.min(x), np.max(x), 1000)\n",
    "y_values = norm.cdf(x_values, loc=mu_chapeau, scale=sigma_chapeau)\n",
    "\n",
    "# Tracé de la CDF de la loi normale\n",
    "plt.plot(x_values, y_values, label='CDF Loi Normale')\n",
    "\n",
    "plt.title('Fonction de Répartition de la Loi Normale')\n",
    "plt.xlabel('Valeur')\n",
    "plt.ylabel('Probabilité Cumulée')\n",
    "plt.legend()\n",
    "plt.grid(True)\n",
    "plt.show()\n"
   ]
  },
  {
   "cell_type": "markdown",
   "metadata": {},
   "source": [
    "# Exercice 3\n",
    "Le nombre de véhicules passant sur une petite route de campagne en une journée est une variable aléatoire $X$ qui suit une loi de Poisson $\\mathcal{P}(5)$.\n",
    "On va simuler une année de circulation sur cette route. Pour cela, importons la bibliothèque numpy.random\n",
    "à l’aide de l’instruction import numpy.random as rd, et utilisons la commande A = rd.poisson(5,[52,7]).\n",
    "La i-eme ligne de $A$ correspond à la i-eme semaine de circulation. On obtient ainsi une matrice $A$ qui contient\n",
    "$52\\times 7$ nombres tirés suivant la loi $\\mathcal{P}(5)$.\n",
    "\n",
    "1 Déterminer le nombre maximal de véhicules circulant sur la route en une journée durant l’année. Et le\n",
    "nombre maximal de véhicules un mercredi durant l’année ?\n",
    "\n",
    "2 Déterminer les numéros des semaines où la route a connu son maximum de fréquentation.\n",
    "\n",
    "3 Calculer le nombre moyen de véhicules par jour durant ces 364 jours. Recommencez plusieurs fois en\n",
    "recréant la matrice A. Que constatez-vous ? Était-ce prévisible ?\n",
    "\n",
    "4 En une seule ligne de commande, évaluer la probabilité qu’une journée voit passer plus de 8 véhicules. \n",
    "Sauriez-vous calculer la valeur exacte de cette probabilité ? \n",
    "\n",
    "5 Toujours en une seule ligne de commande, déterminer le nombre de jours où la route a connu son minimum\n",
    "de fréquentation."
   ]
  },
  {
   "cell_type": "code",
   "execution_count": 62,
   "metadata": {},
   "outputs": [
    {
     "name": "stdout",
     "output_type": "stream",
     "text": [
      "Nombre maximal de véhicules en une journée: 12\n",
      "Nombre maximal de véhicules un mercredi: 10\n",
      "Numéros des semaines du maximum de fréquentation: [32]\n",
      "Nombre moyen de véhicules par jour: 5.186813186813187\n",
      "Probabilité qu'une journée voit passer plus de 8 véhicules: 0.08241758241758242\n",
      "Nombre de jours au minimum de fréquentation: 2\n"
     ]
    }
   ],
   "source": [
    "import numpy.random as rd\n",
    "\n",
    "# Génération de la matrice A pour une année de circulation (52 semaines, 7 jours par semaine)\n",
    "A = rd.poisson(5, [52, 7])\n",
    "\n",
    "# 1. Nombre maximal de véhicules en une journée et un mercredi\n",
    "max_vehicules_jour = A.max()\n",
    "max_vehicules_mercredi = A[:, 2].max()  # Mercredi est le 3ème jour de la semaine, donc indice 2\n",
    "\n",
    "# 2. Numéros des semaines du maximum de fréquentation\n",
    "semaines_max_freq = (A == max_vehicules_jour).any(axis=1).nonzero()[0] + 1  # +1 pour avoir le numéro de semaine\n",
    "\n",
    "# 3. Nombre moyen de véhicules par jour sur les 364 jours\n",
    "moyenne_vehicules_jour = A.mean()\n",
    "\n",
    "# 4. Probabilité qu'une journée voit passer plus de 8 véhicules\n",
    "prob_plus_8_vehicules = (A > 8).mean()\n",
    "\n",
    "# 5. Nombre de jours au minimum de fréquentation\n",
    "jours_min_freq = (A == A.min()).sum()\n",
    "\n",
    "# Affichage des résultats\n",
    "print(f\"Nombre maximal de véhicules en une journée: {max_vehicules_jour}\")\n",
    "print(f\"Nombre maximal de véhicules un mercredi: {max_vehicules_mercredi}\")\n",
    "print(f\"Numéros des semaines du maximum de fréquentation: {semaines_max_freq}\")\n",
    "print(f\"Nombre moyen de véhicules par jour: {moyenne_vehicules_jour}\")\n",
    "print(f\"Probabilité qu'une journée voit passer plus de 8 véhicules: {prob_plus_8_vehicules}\")\n",
    "print(f\"Nombre de jours au minimum de fréquentation: {jours_min_freq}\")\n"
   ]
  },
  {
   "cell_type": "markdown",
   "metadata": {},
   "source": [
    "# Exercice 4:\n",
    "On lance indéfiniment un dé équilibré à 6 faces numérotées de 1 à 6.\n",
    "Écrire un programme permettant de simuler ces lancers de dé et qui renvoie le rang du lancer où l’on\n",
    "obtient pour la première fois un numéro déjà obtenu"
   ]
  },
  {
   "cell_type": "code",
   "execution_count": 63,
   "metadata": {},
   "outputs": [
    {
     "name": "stdout",
     "output_type": "stream",
     "text": [
      "Le rang du lancer où l'on obtient pour la première fois un numéro déjà obtenu est : 2\n"
     ]
    }
   ],
   "source": [
    "import numpy as np\n",
    "\n",
    "def trouver_premier_doublon():\n",
    "    numeros_obtenus = set()  # Ensemble pour stocker les numéros déjà obtenus\n",
    "    rang = 0  # Initialisation du rang\n",
    "\n",
    "    while True:\n",
    "        rang += 1\n",
    "        resultat_lancer = np.random.randint(1, 7)  # Simuler un lancer de dé (1 à 6)\n",
    "        \n",
    "        if resultat_lancer in numeros_obtenus:\n",
    "            return rang  # Retourne le rang du premier doublon\n",
    "        else:\n",
    "            numeros_obtenus.add(resultat_lancer)\n",
    "\n",
    "# Appel de la fonction pour trouver le rang du premier doublon\n",
    "rang_premier_doublon = trouver_premier_doublon()\n",
    "print(f\"Le rang du lancer où l'on obtient pour la première fois un numéro déjà obtenu est : {rang_premier_doublon}\")\n"
   ]
  },
  {
   "cell_type": "markdown",
   "metadata": {},
   "source": [
    "# Exercice 5\n",
    "À un guichet, des clients peuvent venir expédier ou retirer un colis. Au cours d’une journée, le nombre\n",
    "de clients $N$ qui s’y présentent suit la loi de Poisson de paramètre $\\lambda$ (où $\\lambda\\in\\mathbb{R}^*_+$). Chaque client a une probabilité $p$ où $p\\in ]0, 1[$ de venir pour expédier un colis et $1- p$ pour en retirer un.\n",
    "On note $C$ le nombre de colis expédiés dans la journée.\n",
    "\n",
    "1 Pour tout $k \\in\\mathbb{N}$, déterminer l’espérance de $C$ conditionnellement à l’événement $[N = k]$.\n",
    "\n",
    "2 En déduire l’espérance de $C$.\n",
    "\n",
    "3 On suppose dans cette question que $p = 0.3$ et $\\lambda = 2.5$.\n",
    "\n",
    "(a) Écrire un programme renvoyant un vecteur $C$ contenant $n = 10000$ réalisations de la variable\n",
    "aléatoire $C$.\n",
    "\n",
    "(b) Comparer alors l’espérance empirique obtenue avec l’espérance théorique.\n",
    "\n",
    "(c) On souhaite représenter le diagramme en bâtons des fréquences de l’échantillon.\n",
    "\n",
    "i. Exécuter la commande np.mean(C<=4). Que dire des valeurs prises par $C$ ?\n",
    "\n",
    "ii. Représenter le diagramme en bâtons des fréquences de l’échantillon"
   ]
  },
  {
   "cell_type": "code",
   "execution_count": 64,
   "metadata": {},
   "outputs": [
    {
     "name": "stdout",
     "output_type": "stream",
     "text": [
      "Espérance empirique: 0.7456\n",
      "Espérance théorique: 0.75\n",
      "Probabilité que C soit inférieur ou égal à 4: 0.9984\n"
     ]
    },
    {
     "data": {
      "image/png": "[encoded data removed]",
      "text/plain": [
       "<Figure size 640x480 with 1 Axes>"
      ]
     },
     "metadata": {},
     "output_type": "display_data"
    }
   ],
   "source": [
    "import numpy as np\n",
    "\n",
    "# Paramètres donnés\n",
    "p = 0.3\n",
    "lambda_ = 2.5\n",
    "n = 10000\n",
    "\n",
    "# (a) Programme pour générer n réalisations de C\n",
    "N = np.random.poisson(lambda_, n)  # Nombre de clients\n",
    "C = np.random.binomial(N, p)  # Nombre de colis expédiés pour chaque réalisation de N\n",
    "\n",
    "# (b) Comparaison de l'espérance empirique avec l'espérance théorique\n",
    "esperance_empirique = np.mean(C)\n",
    "esperance_theorique = lambda_ * p\n",
    "\n",
    "print(f\"Espérance empirique: {esperance_empirique}\")\n",
    "print(f\"Espérance théorique: {esperance_theorique}\")\n",
    "\n",
    "# (c) Diagramme en bâtons des fréquences\n",
    "# i. Exécution de np.mean(C<=4)\n",
    "prob_C_le_4 = np.mean(C <= 4)\n",
    "print(f\"Probabilité que C soit inférieur ou égal à 4: {prob_C_le_4}\")\n",
    "\n",
    "# ii. Diagramme en bâtons des fréquences\n",
    "from matplotlib import pyplot as plt\n",
    "\n",
    "values, counts = np.unique(C, return_counts=True)\n",
    "plt.bar(values, counts/n, tick_label=values)\n",
    "plt.xlabel('Nombre de colis expédiés')\n",
    "plt.ylabel('Fréquence')\n",
    "plt.title('Diagramme en bâtons des fréquences de C')\n",
    "plt.show()\n"
   ]
  },
  {
   "cell_type": "markdown",
   "metadata": {},
   "source": [
    "# Exercice 6\n",
    "\n",
    "1 Simuler avec la fonction Exponentielle $N = 10000$ valeurs de la loi $\\mathcal{E}(0.5)$.\n",
    "\n",
    "\n",
    "2 Tracer la courbe représentative de la densité $f$ de la loi $\\mathcal{E}(0.5)$.\n",
    "\n",
    "3 Tracer l’histogramme des fréquences de l’échantillon obtenu (on prendra pour cela une\n",
    "subdivision $c$ de l’intervalle $[0, 10]$ en $p = 100$ intervalles de même longueur).\n",
    "\n",
    "Comparer l’histogramme des fréquences de l’échantillon à la courbe représentative de $f$.\n",
    "Qu’en pensez vous ?\n",
    "\n",
    "4 Procéder de même pour la loi $\\Gamma(3)$.\n"
   ]
  },
  {
   "cell_type": "code",
   "execution_count": 65,
   "metadata": {},
   "outputs": [
    {
     "data": {
      "image/png": "[encoded data removed]",
      "text/plain": [
       "<Figure size 1200x600 with 1 Axes>"
      ]
     },
     "metadata": {},
     "output_type": "display_data"
    },
    {
     "data": {
      "image/png": "[encoded data removed]",
      "text/plain": [
       "<Figure size 1200x600 with 1 Axes>"
      ]
     },
     "metadata": {},
     "output_type": "display_data"
    }
   ],
   "source": [
    "import numpy as np\n",
    "import matplotlib.pyplot as plt\n",
    "from scipy.stats import expon, gamma\n",
    "\n",
    "# Paramètres\n",
    "N = 10000\n",
    "lambda_ = 0.5  # Pour la loi exponentielle E(0.5)\n",
    "alpha_gamma = 3  # Paramètre de forme pour la loi Gamma(3)\n",
    "scale_gamma = 1/lambda_  # Paramètre d'échelle pour la loi Gamma\n",
    "p = 100  # Nombre d'intervalles pour l'histogramme\n",
    "\n",
    "# 1. Générer un échantillon de la loi exponentielle E(0.5)\n",
    "samples_exp = np.random.exponential(scale=1/lambda_, size=N)\n",
    "\n",
    "# 2. Tracer la densité de la loi exponentielle E(0.5)\n",
    "x_exp = np.linspace(0, 10, 1000)\n",
    "y_exp = expon.pdf(x_exp, scale=1/lambda_)\n",
    "\n",
    "plt.figure(figsize=(12, 6))\n",
    "plt.plot(x_exp, y_exp, 'r-', label='Densité E(0.5)')\n",
    "plt.hist(samples_exp, bins=p, density=True, alpha=0.5, label='Histogramme E(0.5)')\n",
    "plt.title('Loi exponentielle E(0.5)')\n",
    "plt.xlabel('Valeurs')\n",
    "plt.ylabel('Densité')\n",
    "plt.legend()\n",
    "plt.show()\n",
    "\n",
    "# 3. Générer un échantillon de la loi Gamma(3)\n",
    "samples_gamma = np.random.gamma(shape=alpha_gamma, scale=scale_gamma, size=N)\n",
    "\n",
    "# 4. Tracer la densité de la loi Gamma(3)\n",
    "x_gamma = np.linspace(0, 10, 1000)\n",
    "y_gamma = gamma.pdf(x_gamma, a=alpha_gamma, scale=scale_gamma)\n",
    "\n",
    "plt.figure(figsize=(12, 6))\n",
    "plt.plot(x_gamma, y_gamma, 'r-', label='Densité Gamma(3)')\n",
    "plt.hist(samples_gamma, bins=p, density=True, alpha=0.5, label='Histogramme Gamma(3)')\n",
    "plt.title('Loi Gamma(3)')\n",
    "plt.xlabel('Valeurs')\n",
    "plt.ylabel('Densité')\n",
    "plt.legend()\n",
    "plt.show()"
   ]
  },
  {
   "cell_type": "code",
   "execution_count": null,
   "metadata": {},
   "outputs": [],
   "source": []
  }
 ],
 "metadata": {
  "kernelspec": {
   "display_name": "Python 3.10.11 64-bit",
   "language": "python",
   "name": "python3"
  },
  "language_info": {
   "codemirror_mode": {
    "name": "ipython",
    "version": 3
   },
   "file_extension": ".py",
   "mimetype": "text/x-python",
   "name": "python",
   "nbconvert_exporter": "python",
   "pygments_lexer": "ipython3",
   "version": "3.10.11"
  },
  "vscode": {
   "interpreter": {
    "hash": "26de051ba29f2982a8de78e945f0abaf191376122a1563185a90213a26c5da77"
   }
  }
 },
 "nbformat": 4,
 "nbformat_minor": 4
}
